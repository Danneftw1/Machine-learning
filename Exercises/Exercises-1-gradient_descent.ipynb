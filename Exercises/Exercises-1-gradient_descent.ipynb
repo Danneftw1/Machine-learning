{
 "cells": [
  {
   "cell_type": "code",
   "execution_count": 1,
   "metadata": {},
   "outputs": [],
   "source": [
    "import numpy as np\n",
    "import pandas as pd\n",
    "import matplotlib.pyplot as plt\n",
    "import seaborn as sns"
   ]
  },
  {
   "cell_type": "code",
   "execution_count": 45,
   "metadata": {},
   "outputs": [],
   "source": [
    "np.random.seed(42)\n",
    "\n",
    "\n",
    "# (1000, 2) samples from X-U(0, 1)\n",
    "X = np.random.uniform(0, 1, (1000, 2)) #high, low, samples, features\n",
    "\n",
    "# 1000 samples E-N(0, 1)\n",
    "epsilon = np.random.normal(0, 1, size=1000)\n",
    "\n",
    "# Picking out specific columns from numpy array\n",
    "X_col1 = X[:, 0]\n",
    "X_col2 = X[:, 1]\n",
    "\n",
    "# y-value\n",
    "y = 3*X_col1 + 5*X_col2 + 3 + epsilon # beta1, beta2, beta3...?\n"
   ]
  },
  {
   "attachments": {},
   "cell_type": "markdown",
   "metadata": {},
   "source": [
    "### Concetaning intercept column for X"
   ]
  },
  {
   "cell_type": "code",
   "execution_count": 51,
   "metadata": {},
   "outputs": [
    {
     "data": {
      "text/plain": [
       "array([[1.        , 0.37454012, 0.95071431],\n",
       "       [1.        , 0.73199394, 0.59865848],\n",
       "       [1.        , 0.15601864, 0.15599452],\n",
       "       ...,\n",
       "       [1.        , 0.75137509, 0.65695516],\n",
       "       [1.        , 0.95661462, 0.06895802],\n",
       "       [1.        , 0.05705472, 0.28218707]])"
      ]
     },
     "execution_count": 51,
     "metadata": {},
     "output_type": "execute_result"
    }
   ],
   "source": [
    "intercept = np.ones(len(X)) # create array with ones the length of X\n",
    "X_1 = np.c_[intercept, X] # concats intercept array with X array\n",
    "X_1"
   ]
  }
 ],
 "metadata": {
  "kernelspec": {
   "display_name": "Machine-learning-PT8MuEHh",
   "language": "python",
   "name": "python3"
  },
  "language_info": {
   "codemirror_mode": {
    "name": "ipython",
    "version": 3
   },
   "file_extension": ".py",
   "mimetype": "text/x-python",
   "name": "python",
   "nbconvert_exporter": "python",
   "pygments_lexer": "ipython3",
   "version": "3.9.13"
  },
  "orig_nbformat": 4,
  "vscode": {
   "interpreter": {
    "hash": "2954760dba39ce8d6c24f490d8285afb24f72ccbfa7df732b85787d0e4c5f639"
   }
  }
 },
 "nbformat": 4,
 "nbformat_minor": 2
}
