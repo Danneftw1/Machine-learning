{
 "cells": [
  {
   "cell_type": "code",
   "execution_count": null,
   "metadata": {},
   "outputs": [],
   "source": []
  }
 ],
 "metadata": {
  "kernelspec": {
   "display_name": "Machine-learning-PT8MuEHh",
   "language": "python",
   "name": "python3"
  },
  "language_info": {
   "name": "python",
   "version": "3.9.13"
  },
  "orig_nbformat": 4,
  "vscode": {
   "interpreter": {
    "hash": "2954760dba39ce8d6c24f490d8285afb24f72ccbfa7df732b85787d0e4c5f639"
   }
  }
 },
 "nbformat": 4,
 "nbformat_minor": 2
}
