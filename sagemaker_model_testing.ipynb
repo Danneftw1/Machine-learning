{
 "cells": [
  {
   "cell_type": "markdown",
   "metadata": {},
   "source": [
    "# training_job med train test"
   ]
  },
  {
   "cell_type": "code",
   "execution_count": null,
   "metadata": {},
   "outputs": [],
   "source": [
    "import argparse\n",
    "import pandas as pd\n",
    "from sklearn.ensemble import RandomForestRegressor\n",
    "import joblib\n",
    "import boto3\n",
    "from io import StringIO\n",
    "import logging\n",
    "\n",
    "logging.basicConfig(level=logging.INFO)\n",
    "\n",
    "# reads train and test data from s3\n",
    "def read_from_s3(bucket_name, file_name):\n",
    "    s3 = boto3.client(\"s3\")\n",
    "    obj = s3.get_object(Bucket=bucket_name, Key=file_name)\n",
    "    return pd.read_csv(StringIO(obj[\"Body\"].read().decode(\"utf-8\")))\n",
    "\n",
    "\n",
    "if __name__ == \"__main__\":\n",
    "    parser = argparse.ArgumentParser()\n",
    "\n",
    "    parser.add_argument(\"--bucket-name\", type=str, required=True)\n",
    "    parser.add_argument(\"--xtrain-key\", type=str, required=True)\n",
    "    parser.add_argument(\"--xtest-key\", type=str, required=True)\n",
    "    parser.add_argument(\"--ytrain-key\", type=str, required=True)\n",
    "    parser.add_argument(\"--ytest-key\", type=str, required=True)\n",
    "\n",
    "    args = parser.parse_args()\n",
    "\n",
    "    X_train = read_from_s3(args.bucket_name, args.xtrain_key)\n",
    "    X_test = read_from_s3(args.bucket_name, args.xtest_key)\n",
    "    y_train = read_from_s3(args.bucket_name, args.ytrain_key)\n",
    "    y_test = read_from_s3(args.bucket_name, args.ytest_key)\n",
    "\n",
    "    model = RandomForestRegressor()\n",
    "\n",
    "    model.fit(X_train, y_train)\n",
    "\n",
    "    accuracy = model.score(X_test, y_test)\n",
    "    logging.info(f\"Accuracy: {accuracy * 100:.2f}%\")\n",
    "\n",
    "    joblib.dump(model, \"/opt/ml/model/model.joblib\")\n",
    "    logging.info(\"Model saved to /opt/ml/model/model.joblib\")\n"
   ]
  },
  {
   "cell_type": "markdown",
   "metadata": {},
   "source": [
    "# Deploy.py med train test"
   ]
  },
  {
   "cell_type": "code",
   "execution_count": null,
   "metadata": {},
   "outputs": [],
   "source": [
    "import sagemaker\n",
    "from sagemaker.sklearn.model import SKLearnModel\n",
    "import os\n",
    "\n",
    "if __name__ == \"__main__\":\n",
    "    sagemaker_session = sagemaker.Session()\n",
    "    role = \"arn:aws:iam::796717305864:role/bike-scrapper-sagemaker-role\"\n",
    "\n",
    "    model_data = 's3://sagemaker-eu-north-1-796717305864/sagemaker-scikit-learn-2023-11-07-11-16-50-623/output/model.tar.gz'\n",
    "    inference_script_path = os.path.join(os.getcwd(), \"bike_data_scraper\", \"sagemaker\", \"inference.py\")\n",
    "\n",
    "    sklearn_model = SKLearnModel(model_data=model_data,\n",
    "                                 role=role,\n",
    "                                 framework_version='0.23-1',\n",
    "                                 py_version='py3',\n",
    "                                 entry_point=inference_script_path)\n",
    "\n",
    "    # Deploy the model to an endpoint with increased volume size\n",
    "    predictor = sklearn_model.deploy(instance_type=\"ml.m5.2xlarge\",\n",
    "                                     initial_instance_count=1,\n",
    "                                     endpoint_name=\"random-forest-endpoint-1\")\n",
    "\n",
    "    print(\"Endpoint successfully created \\nName: {}\".format(predictor.endpoint_name))\n"
   ]
  }
 ],
 "metadata": {
  "language_info": {
   "name": "python"
  }
 },
 "nbformat": 4,
 "nbformat_minor": 2
}
