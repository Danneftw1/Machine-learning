{
 "cells": [
  {
   "cell_type": "markdown",
   "metadata": {},
   "source": [
    "# training_job med train test"
   ]
  },
  {
   "cell_type": "code",
   "execution_count": null,
   "metadata": {},
   "outputs": [],
   "source": [
    "import argparse\n",
    "import pandas as pd\n",
    "from sklearn.ensemble import RandomForestRegressor\n",
    "import joblib\n",
    "import boto3\n",
    "from io import StringIO\n",
    "import logging\n",
    "\n",
    "logging.basicConfig(level=logging.INFO)\n",
    "\n",
    "# reads train and test data from s3\n",
    "def read_from_s3(bucket_name, file_name):\n",
    "    s3 = boto3.client(\"s3\")\n",
    "    obj = s3.get_object(Bucket=bucket_name, Key=file_name)\n",
    "    return pd.read_csv(StringIO(obj[\"Body\"].read().decode(\"utf-8\")))\n",
    "\n",
    "\n",
    "if __name__ == \"__main__\":\n",
    "    parser = argparse.ArgumentParser()\n",
    "\n",
    "    parser.add_argument(\"--bucket-name\", type=str, required=True)\n",
    "    parser.add_argument(\"--xtrain-key\", type=str, required=True)\n",
    "    parser.add_argument(\"--xtest-key\", type=str, required=True)\n",
    "    parser.add_argument(\"--ytrain-key\", type=str, required=True)\n",
    "    parser.add_argument(\"--ytest-key\", type=str, required=True)\n",
    "\n",
    "    args = parser.parse_args()\n",
    "\n",
    "    X_train = read_from_s3(args.bucket_name, args.xtrain_key)\n",
    "    X_test = read_from_s3(args.bucket_name, args.xtest_key)\n",
    "    y_train = read_from_s3(args.bucket_name, args.ytrain_key)\n",
    "    y_test = read_from_s3(args.bucket_name, args.ytest_key)\n",
    "\n",
    "    model = RandomForestRegressor()\n",
    "\n",
    "    model.fit(X_train, y_train)\n",
    "\n",
    "    accuracy = model.score(X_test, y_test)\n",
    "    logging.info(f\"Accuracy: {accuracy * 100:.2f}%\")\n",
    "\n",
    "    joblib.dump(model, \"/opt/ml/model/model.joblib\")\n",
    "    logging.info(\"Model saved to /opt/ml/model/model.joblib\")\n"
   ]
  },
  {
   "cell_type": "markdown",
   "metadata": {},
   "source": [
    "# Deploy.py med train test"
   ]
  },
  {
   "cell_type": "code",
   "execution_count": null,
   "metadata": {},
   "outputs": [],
   "source": [
    "import sagemaker\n",
    "from sagemaker.sklearn.model import SKLearnModel\n",
    "import os\n",
    "\n",
    "if __name__ == \"__main__\":\n",
    "    sagemaker_session = sagemaker.Session()\n",
    "    role = \"arn:aws:iam::796717305864:role/bike-scrapper-sagemaker-role\"\n",
    "\n",
    "    model_data = 's3://sagemaker-eu-north-1-796717305864/sagemaker-scikit-learn-2023-11-07-11-16-50-623/output/model.tar.gz'\n",
    "    inference_script_path = os.path.join(os.getcwd(), \"bike_data_scraper\", \"sagemaker\", \"inference.py\")\n",
    "\n",
    "    sklearn_model = SKLearnModel(model_data=model_data,\n",
    "                                 role=role,\n",
    "                                 framework_version='0.23-1',\n",
    "                                 py_version='py3',\n",
    "                                 entry_point=inference_script_path)\n",
    "\n",
    "    # Deploy the model to an endpoint with increased volume size\n",
    "    predictor = sklearn_model.deploy(instance_type=\"ml.m5.2xlarge\",\n",
    "                                     initial_instance_count=1,\n",
    "                                     endpoint_name=\"random-forest-endpoint-1\")\n",
    "\n",
    "    print(\"Endpoint successfully created \\nName: {}\".format(predictor.endpoint_name))\n"
   ]
  },
  {
   "cell_type": "markdown",
   "metadata": {},
   "source": [
    "# inference options"
   ]
  },
  {
   "cell_type": "markdown",
   "metadata": {},
   "source": [
    "## real-time inference"
   ]
  },
  {
   "cell_type": "code",
   "execution_count": null,
   "metadata": {},
   "outputs": [],
   "source": [
    "import sagemaker\n",
    "from sagemaker.sklearn.model import SKLearnModel\n",
    "import os\n",
    "\n",
    "if __name__ == \"__main__\":\n",
    "    sagemaker_session = sagemaker.Session()\n",
    "    role = \"arn:aws:iam::796717305864:role/bike-scrapper-sagemaker-role\"\n",
    "\n",
    "    model_data = \"s3://sagemaker-eu-north-1-796717305864/sagemaker-scikit-learn-2023-11-08-13-10-20-480/output/model.tar.gz\"\n",
    "    inference_script_path = os.path.join(\n",
    "        os.getcwd(), \"bike_data_scraper\", \"sagemaker\", \"inference.py\"\n",
    "    )\n",
    "\n",
    "    sklearn_model = SKLearnModel(\n",
    "        model_data=model_data,\n",
    "        role=role,\n",
    "        framework_version=\"0.23-1\",\n",
    "        py_version=\"py3\",\n",
    "        entry_point=inference_script_path,\n",
    "    )\n",
    "\n",
    "    # increased instance\n",
    "    predictor = sklearn_model.deploy(\n",
    "        instance_type=\"ml.m5.2xlarge\",\n",
    "        initial_instance_count=1,\n",
    "        endpoint_name=\"random-forest-endpoint-1\",\n",
    "    )\n",
    "\n",
    "    print(\"Endpoint successfully created \\nName: {}\".format(predictor.endpoint_name))\n",
    "\n",
    "\n",
    "# ml.m5.2xlarge 8/32 - $0.49/h"
   ]
  },
  {
   "cell_type": "markdown",
   "metadata": {},
   "source": [
    "## Serverless inference"
   ]
  },
  {
   "cell_type": "code",
   "execution_count": null,
   "metadata": {},
   "outputs": [],
   "source": [
    "import sagemaker\n",
    "from sagemaker.sklearn.model import SKLearnModel\n",
    "import os\n",
    "\n",
    "if __name__ == \"__main__\":\n",
    "    sagemaker_session = sagemaker.Session()\n",
    "    role = \"arn:aws:iam::796717305864:role/bike-scrapper-sagemaker-role\"\n",
    "\n",
    "    model_data = \"s3://sagemaker-eu-north-1-796717305864/sagemaker-scikit-learn-2023-11-08-13-10-20-480/output/model.tar.gz\"\n",
    "    inference_script_path = os.path.join(\n",
    "        os.getcwd(), \"bike_data_scraper\", \"sagemaker\", \"inference.py\"\n",
    "    )\n",
    "\n",
    "    sklearn_model = SKLearnModel(\n",
    "        model_data=model_data,\n",
    "        role=role,\n",
    "        framework_version=\"0.23-1\",\n",
    "        py_version=\"py3\",\n",
    "        entry_point=inference_script_path,\n",
    "    )\n",
    "\n",
    "    # Configure serverless inference\n",
    "    serverless_config = {\n",
    "        'MemorySizeInMB': 2048,  # Configure memory size as needed\n",
    "        'MaxConcurrency': 10,    # Configure concurrency as needed\n",
    "    }\n",
    "\n",
    "    # Deploy the model with serverless inference configuration\n",
    "    # Note: The 'instance_type' and 'initial_instance_count' parameters are not used for serverless inference\n",
    "    predictor = sklearn_model.deploy(\n",
    "        serverless_inference_config=serverless_config,\n",
    "        endpoint_name=\"random-forest-endpoint-serverless\",\n",
    "    )\n",
    "\n",
    "    print(f\"Serverless endpoint successfully created \\nName: {predictor.endpoint_name}\")\n"
   ]
  },
  {
   "cell_type": "markdown",
   "metadata": {},
   "source": [
    "# Asynchronous Inference"
   ]
  },
  {
   "cell_type": "code",
   "execution_count": null,
   "metadata": {},
   "outputs": [],
   "source": [
    "import sagemaker\n",
    "from sagemaker.sklearn.model import SKLearnModel\n",
    "from sagemaker.async_inference import AsyncInferenceConfig\n",
    "import os\n",
    "\n",
    "if __name__ == \"__main__\":\n",
    "    sagemaker_session = sagemaker.Session()\n",
    "    role = \"arn:aws:iam::796717305864:role/bike-scrapper-sagemaker-role\"\n",
    "\n",
    "    model_data = \"s3://sagemaker-eu-north-1-796717305864/sagemaker-scikit-learn-2023-11-08-13-10-20-480/output/model.tar.gz\"\n",
    "    inference_script_path = os.path.join(\n",
    "        os.getcwd(), \"bike_data_scraper\", \"sagemaker\", \"inference.py\"\n",
    "    )\n",
    "\n",
    "    sklearn_model = SKLearnModel(\n",
    "        model_data=model_data,\n",
    "        role=role,\n",
    "        framework_version=\"0.23-1\",\n",
    "        py_version=\"py3\",\n",
    "        entry_point=inference_script_path,\n",
    "    )\n",
    "\n",
    "    # Configure the asynchronous inference settings\n",
    "    async_inference_config = AsyncInferenceConfig(\n",
    "        output_path=\"s3://your-output-bucket/path-to-output\",  # Specify your S3 bucket for results\n",
    "        error_output_prefix=\"errors/\",  # Optionally specify a prefix for where errors should be output\n",
    "        # Optionally add SNS topic ARNs for success and error notifications\n",
    "        # notification_config={\n",
    "        #     \"SuccessTopic\": \"arn:aws:sns:region:account-id:success-topic\",\n",
    "        #     \"ErrorTopic\": \"arn:aws:sns:region:account-id:error-topic\"\n",
    "        # },\n",
    "    )\n",
    "\n",
    "    # Deploy the model with asynchronous inference configuration\n",
    "    predictor = sklearn_model.deploy(\n",
    "        instance_type=\"ml.m5.2xlarge\",\n",
    "        initial_instance_count=1,\n",
    "        endpoint_name=\"random-forest-endpoint-async\",\n",
    "        async_inference_config=async_inference_config\n",
    "    )\n",
    "\n",
    "    print(f\"Asynchronous endpoint successfully created \\nName: {predictor.endpoint_name}\")\n"
   ]
  }
 ],
 "metadata": {
  "language_info": {
   "name": "python"
  }
 },
 "nbformat": 4,
 "nbformat_minor": 2
}
