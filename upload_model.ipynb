{
 "cells": [
  {
   "cell_type": "code",
   "execution_count": 1,
   "metadata": {},
   "outputs": [
    {
     "name": "stdout",
     "output_type": "stream",
     "text": [
      "An error occurred: The SSO session associated with this profile has expired or is otherwise invalid. To refresh this SSO session run aws sso login with the corresponding profile.\n"
     ]
    }
   ],
   "source": [
    "import boto3\n",
    "\n",
    "s3 = boto3.client('s3')\n",
    "\n",
    "bucket_name = 'cyrille-dscrap-bucket'\n",
    "file_name = 'processed/station_bikes/2023-09-10-2023-09-24/StationaryStations.csv'\n",
    "\n",
    "try:\n",
    "    s3.download_file(bucket_name, file_name, 'local-file-name')\n",
    "except Exception as e:\n",
    "    print(f\"An error occurred: {e}\")"
   ]
  },
  {
   "cell_type": "code",
   "execution_count": null,
   "metadata": {},
   "outputs": [],
   "source": [
    "import datetime\n",
    "import time\n",
    "import tarfile\n",
    "\n",
    "import boto3\n",
    "import pandas as pd\n",
    "import numpy as np\n",
    "from sklearn.model_selection import train_test_split\n",
    "from sklearn.datasets import fetch_california_housing\n",
    "\n"
   ]
  },
  {
   "cell_type": "code",
   "execution_count": 5,
   "metadata": {},
   "outputs": [
    {
     "data": {
      "text/plain": [
       "['MedInc',\n",
       " 'HouseAge',\n",
       " 'AveRooms',\n",
       " 'AveBedrms',\n",
       " 'Population',\n",
       " 'AveOccup',\n",
       " 'Latitude',\n",
       " 'Longitude']"
      ]
     },
     "execution_count": 5,
     "metadata": {},
     "output_type": "execute_result"
    }
   ],
   "source": [
    "data = fetch_california_housing()\n",
    "data.feature_names"
   ]
  },
  {
   "cell_type": "code",
   "execution_count": null,
   "metadata": {},
   "outputs": [],
   "source": [
    "import sagemaker\n",
    "from sagemaker import get_execution_role\n",
    "from sagemaker.sklearn.estimator import SKLearn\n",
    "import os\n",
    "import boto3\n",
    "\n",
    "if __name__ == \"__main__\":\n",
    "    role = \"arn:aws:iam::796717305864:role/bike-scrapper-sagemaker-role\"\n",
    "    sagemaker_session = sagemaker.Session(\n",
    "        boto_session=boto3.Session(region_name=\"eu-north-1\")\n",
    "    )\n",
    "    train_path = os.path.join(os.getcwd(), \"bike_data_scraper\", \"sagemaker\", \"training_job.py\")\n",
    "\n",
    "    bucket_name = \"sagemaker-eu-north-1-796717305864\"\n",
    "    xtrain_key = \"sagemaker/sklearncontainer/xtrain2.csv\"\n",
    "    xtest_key = \"sagemaker/sklearncontainer/xtest2.csv\"\n",
    "    ytrain_key = \"sagemaker/sklearncontainer/ytrain2.csv\"\n",
    "    ytest_key = \"sagemaker/sklearncontainer/ytest2.csv\"\n",
    "\n",
    "    sklearn = SKLearn(\n",
    "        entry_point=train_path,\n",
    "        role=role,\n",
    "        instance_type=\"ml.m5.xlarge\",\n",
    "        sagemaker_session=sagemaker_session,\n",
    "        framework_version=\"0.23-1\",\n",
    "        py_version=\"py3\",\n",
    "        hyperparameters={\n",
    "            \"bucket-name\": bucket_name,\n",
    "            \"xtrain-key\": xtrain_key,\n",
    "            \"xtest-key\": xtest_key,\n",
    "            \"ytrain-key\": ytrain_key,\n",
    "            \"ytest-key\": ytest_key,\n",
    "        },\n",
    "    )\n",
    "\n",
    "    sklearn.fit()\n",
    "\n",
    "    predictor = sklearn.deploy(\n",
    "        instance_type=\"ml.m5.xlarge\",\n",
    "        initial_instance_count=1,\n",
    "        endpoint_name=\"random-forest-endpoint-1\",\n",
    "    )\n",
    "\n",
    "\n",
    "# \"ml.m5.xlarge\" 4/16\n",
    "# \"ml.r5.8xlarge\" 32/256\n",
    "# \"ml.m5.8xlarge\" 32/128\n",
    "# \"ml.r5.24xlarge\" 96/768\n"
   ]
  },
  {
   "cell_type": "code",
   "execution_count": null,
   "metadata": {},
   "outputs": [],
   "source": [
    "import argparse\n",
    "import pandas as pd\n",
    "from sklearn.ensemble import RandomForestRegressor\n",
    "import joblib\n",
    "import boto3\n",
    "from io import StringIO\n",
    "import logging\n",
    "\n",
    "logging.basicConfig(level=logging.INFO)\n",
    "\n",
    "# reads train and test data from s3\n",
    "def read_from_s3(bucket_name, file_name):\n",
    "    s3 = boto3.client(\"s3\")\n",
    "    obj = s3.get_object(Bucket=bucket_name, Key=file_name)\n",
    "    return pd.read_csv(StringIO(obj[\"Body\"].read().decode(\"utf-8\")))\n",
    "\n",
    "\n",
    "if __name__ == \"__main__\":\n",
    "    parser = argparse.ArgumentParser()\n",
    "\n",
    "    parser.add_argument(\"--bucket-name\", type=str, required=True)\n",
    "    parser.add_argument(\"--xtrain-key\", type=str, required=True)\n",
    "    parser.add_argument(\"--xtest-key\", type=str, required=True)\n",
    "    parser.add_argument(\"--ytrain-key\", type=str, required=True)\n",
    "    parser.add_argument(\"--ytest-key\", type=str, required=True)\n",
    "\n",
    "    args = parser.parse_args()\n",
    "\n",
    "    X_train = read_from_s3(args.bucket_name, args.xtrain_key)\n",
    "    X_test = read_from_s3(args.bucket_name, args.xtest_key)\n",
    "    y_train = read_from_s3(args.bucket_name, args.ytrain_key)\n",
    "    y_test = read_from_s3(args.bucket_name, args.ytest_key)\n",
    "\n",
    "    model = RandomForestRegressor()\n",
    "\n",
    "    model.fit(X_train, y_train)\n",
    "\n",
    "    accuracy = model.score(X_test, y_test)\n",
    "    logging.info(f\"Accuracy: {accuracy * 100:.2f}%\")\n",
    "\n",
    "    joblib.dump(model, \"/opt/ml/model/model.joblib\")\n",
    "    logging.info(\"Model saved to /opt/ml/model/model.joblib\")\n"
   ]
  }
 ],
 "metadata": {
  "kernelspec": {
   "display_name": "Machine-learning-Mosm6azX",
   "language": "python",
   "name": "python3"
  },
  "language_info": {
   "codemirror_mode": {
    "name": "ipython",
    "version": 3
   },
   "file_extension": ".py",
   "mimetype": "text/x-python",
   "name": "python",
   "nbconvert_exporter": "python",
   "pygments_lexer": "ipython3",
   "version": "3.9.13"
  }
 },
 "nbformat": 4,
 "nbformat_minor": 2
}
