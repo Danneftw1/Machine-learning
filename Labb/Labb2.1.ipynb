{
 "cells": [
  {
   "attachments": {},
   "cell_type": "markdown",
   "metadata": {},
   "source": [
    "# 2.4\n",
    "- Jag vill se ifall vi predikera ifall någon är positiv för cardiovascular disease.\n",
    "- I detta fallet använder jag df_2, men jag tror att df_1 hade funkat också\n",
    "- Efter jag hade kollat runt lite på modeller som ska vara bra på kategorisk data kom jag fram till att jag vill testa:\n",
    "* KNN\n",
    "* Random Forest\n",
    "* SVM\n",
    "* Logistic Regression\n",
    "\n",
    "### Recall är viktigare eftersom vi vill inte ha false negatives\n",
    "### Accuracy är viktigare om vi vill ha mindre false positives"
   ]
  },
  {
   "cell_type": "code",
   "execution_count": 1,
   "metadata": {},
   "outputs": [],
   "source": [
    "import pandas as pd\n",
    "import numpy as np\n",
    "from sklearn.model_selection import train_test_split, GridSearchCV\n",
    "from sklearn.preprocessing import StandardScaler, MinMaxScaler\n",
    "from sklearn.linear_model import LogisticRegression\n",
    "from sklearn.tree import DecisionTreeClassifier\n",
    "from sklearn.ensemble import RandomForestClassifier\n",
    "from sklearn.svm import SVC\n",
    "from sklearn.neighbors import KNeighborsClassifier\n",
    "from sklearn.metrics import accuracy_score, f1_score, precision_score, recall_score"
   ]
  },
  {
   "attachments": {},
   "cell_type": "markdown",
   "metadata": {},
   "source": [
    "## Code for dfs to be correct"
   ]
  },
  {
   "cell_type": "code",
   "execution_count": 2,
   "metadata": {},
   "outputs": [],
   "source": [
    "df = pd.read_csv(\"../Labb/Disease_prediction/cardio_train.csv\", sep=\";\")\n",
    "\n",
    "df[\"age\"] = round(df[\"age\"]/365).astype(int) \n",
    "\n",
    "df['BMI'] = df['weight'] / (df['height']/100)**2\n",
    "\n",
    "# remove outliers that are below 15 and above 50\n",
    "df = df[df['BMI'] > 15]\n",
    "df = df[df['BMI'] < 50]\n",
    "\n",
    "df['BMI'].min(), df['BMI'].max()\n",
    "\n",
    "df['BMI_category'] = df['BMI'].apply(lambda x: 1 if x < 25 else 2 if x < 30 else 3)\n",
    "\n",
    "# removing outliers\n",
    "# set the limits for systolic blood pressure to 90-200 and for diastolic blood pressure to 60-145\n",
    "# From what I can find, you have hypotension (low blood pressure) if you go below 90/60.\n",
    "df = df[df['ap_hi'] > 90]\n",
    "df = df[df['ap_hi'] < 200] # set it to 200 since the next highest recorded value in the dataset is 197 for systolic blood pressure\n",
    "# and systolic pressure above 180 is potentially life-threatening, which means not alot of people will have a systolic blood pressure above 200\n",
    "\n",
    "# diastolic blood pressure limits\n",
    "# From what I can find, you have hypotension (low blood pressure) if you go below 60 diastolic blood pressure.\n",
    "df = df[df['ap_lo'] > 60]\n",
    "df = df[df['ap_lo'] < 145] # set the limit to 145 since the highest recorded value in the dataset is 140 for diastolic blood pressure\n",
    "\n",
    "\n",
    "df = df[df['ap_hi'] > df['ap_lo']] # removes all rows where the diastolic blood pressure is higher than the systolic blood pressure\n",
    "\n",
    "for index, row in df.iterrows():\n",
    "    sys_bp = row['ap_hi']\n",
    "    dia_bp = row['ap_lo']\n",
    "\n",
    "    new_col = 'BP_category'\n",
    "\n",
    "    # Categorize the blood pressure according to the standard guidelines from wikipedia\n",
    "    if sys_bp < 120 and dia_bp < 80:\n",
    "        df.at[index, new_col] = 1\n",
    "    elif sys_bp < 130 and dia_bp < 80:\n",
    "        df.at[index, new_col] = 2\n",
    "    elif sys_bp < 140 or dia_bp < 90:\n",
    "        df.at[index, new_col] = 3\n",
    "    elif sys_bp < 180 or dia_bp < 120:\n",
    "        df.at[index, new_col] = 4\n",
    "    elif sys_bp > 180 or dia_bp > 120:\n",
    "        df.at[index, new_col] = 5\n",
    "\n",
    "df_1 = df.drop(['ap_hi', 'ap_lo', 'height', 'weight', 'BMI'], axis=1)\n",
    "df_2 = df.drop(['height', 'weight', 'BMI_category', 'BP_category'], axis=1)"
   ]
  },
  {
   "cell_type": "code",
   "execution_count": 3,
   "metadata": {},
   "outputs": [
    {
     "data": {
      "text/html": [
       "<div>\n",
       "<style scoped>\n",
       "    .dataframe tbody tr th:only-of-type {\n",
       "        vertical-align: middle;\n",
       "    }\n",
       "\n",
       "    .dataframe tbody tr th {\n",
       "        vertical-align: top;\n",
       "    }\n",
       "\n",
       "    .dataframe thead th {\n",
       "        text-align: right;\n",
       "    }\n",
       "</style>\n",
       "<table border=\"1\" class=\"dataframe\">\n",
       "  <thead>\n",
       "    <tr style=\"text-align: right;\">\n",
       "      <th></th>\n",
       "      <th>id</th>\n",
       "      <th>age</th>\n",
       "      <th>gender</th>\n",
       "      <th>height</th>\n",
       "      <th>weight</th>\n",
       "      <th>ap_hi</th>\n",
       "      <th>ap_lo</th>\n",
       "      <th>cholesterol</th>\n",
       "      <th>gluc</th>\n",
       "      <th>smoke</th>\n",
       "      <th>alco</th>\n",
       "      <th>active</th>\n",
       "      <th>cardio</th>\n",
       "      <th>BMI</th>\n",
       "      <th>BMI_category</th>\n",
       "      <th>BP_category</th>\n",
       "    </tr>\n",
       "  </thead>\n",
       "  <tbody>\n",
       "    <tr>\n",
       "      <th>0</th>\n",
       "      <td>0</td>\n",
       "      <td>50</td>\n",
       "      <td>2</td>\n",
       "      <td>168</td>\n",
       "      <td>62.0</td>\n",
       "      <td>110</td>\n",
       "      <td>80</td>\n",
       "      <td>1</td>\n",
       "      <td>1</td>\n",
       "      <td>0</td>\n",
       "      <td>0</td>\n",
       "      <td>1</td>\n",
       "      <td>0</td>\n",
       "      <td>21.967120</td>\n",
       "      <td>1</td>\n",
       "      <td>3.0</td>\n",
       "    </tr>\n",
       "    <tr>\n",
       "      <th>1</th>\n",
       "      <td>1</td>\n",
       "      <td>55</td>\n",
       "      <td>1</td>\n",
       "      <td>156</td>\n",
       "      <td>85.0</td>\n",
       "      <td>140</td>\n",
       "      <td>90</td>\n",
       "      <td>3</td>\n",
       "      <td>1</td>\n",
       "      <td>0</td>\n",
       "      <td>0</td>\n",
       "      <td>1</td>\n",
       "      <td>1</td>\n",
       "      <td>34.927679</td>\n",
       "      <td>3</td>\n",
       "      <td>4.0</td>\n",
       "    </tr>\n",
       "    <tr>\n",
       "      <th>2</th>\n",
       "      <td>2</td>\n",
       "      <td>52</td>\n",
       "      <td>1</td>\n",
       "      <td>165</td>\n",
       "      <td>64.0</td>\n",
       "      <td>130</td>\n",
       "      <td>70</td>\n",
       "      <td>3</td>\n",
       "      <td>1</td>\n",
       "      <td>0</td>\n",
       "      <td>0</td>\n",
       "      <td>0</td>\n",
       "      <td>1</td>\n",
       "      <td>23.507805</td>\n",
       "      <td>1</td>\n",
       "      <td>3.0</td>\n",
       "    </tr>\n",
       "    <tr>\n",
       "      <th>3</th>\n",
       "      <td>3</td>\n",
       "      <td>48</td>\n",
       "      <td>2</td>\n",
       "      <td>169</td>\n",
       "      <td>82.0</td>\n",
       "      <td>150</td>\n",
       "      <td>100</td>\n",
       "      <td>1</td>\n",
       "      <td>1</td>\n",
       "      <td>0</td>\n",
       "      <td>0</td>\n",
       "      <td>1</td>\n",
       "      <td>1</td>\n",
       "      <td>28.710479</td>\n",
       "      <td>2</td>\n",
       "      <td>4.0</td>\n",
       "    </tr>\n",
       "    <tr>\n",
       "      <th>5</th>\n",
       "      <td>8</td>\n",
       "      <td>60</td>\n",
       "      <td>1</td>\n",
       "      <td>151</td>\n",
       "      <td>67.0</td>\n",
       "      <td>120</td>\n",
       "      <td>80</td>\n",
       "      <td>2</td>\n",
       "      <td>2</td>\n",
       "      <td>0</td>\n",
       "      <td>0</td>\n",
       "      <td>0</td>\n",
       "      <td>0</td>\n",
       "      <td>29.384676</td>\n",
       "      <td>2</td>\n",
       "      <td>3.0</td>\n",
       "    </tr>\n",
       "    <tr>\n",
       "      <th>...</th>\n",
       "      <td>...</td>\n",
       "      <td>...</td>\n",
       "      <td>...</td>\n",
       "      <td>...</td>\n",
       "      <td>...</td>\n",
       "      <td>...</td>\n",
       "      <td>...</td>\n",
       "      <td>...</td>\n",
       "      <td>...</td>\n",
       "      <td>...</td>\n",
       "      <td>...</td>\n",
       "      <td>...</td>\n",
       "      <td>...</td>\n",
       "      <td>...</td>\n",
       "      <td>...</td>\n",
       "      <td>...</td>\n",
       "    </tr>\n",
       "    <tr>\n",
       "      <th>69994</th>\n",
       "      <td>99992</td>\n",
       "      <td>58</td>\n",
       "      <td>1</td>\n",
       "      <td>165</td>\n",
       "      <td>80.0</td>\n",
       "      <td>150</td>\n",
       "      <td>80</td>\n",
       "      <td>1</td>\n",
       "      <td>1</td>\n",
       "      <td>0</td>\n",
       "      <td>0</td>\n",
       "      <td>1</td>\n",
       "      <td>1</td>\n",
       "      <td>29.384757</td>\n",
       "      <td>2</td>\n",
       "      <td>3.0</td>\n",
       "    </tr>\n",
       "    <tr>\n",
       "      <th>69995</th>\n",
       "      <td>99993</td>\n",
       "      <td>53</td>\n",
       "      <td>2</td>\n",
       "      <td>168</td>\n",
       "      <td>76.0</td>\n",
       "      <td>120</td>\n",
       "      <td>80</td>\n",
       "      <td>1</td>\n",
       "      <td>1</td>\n",
       "      <td>1</td>\n",
       "      <td>0</td>\n",
       "      <td>1</td>\n",
       "      <td>0</td>\n",
       "      <td>26.927438</td>\n",
       "      <td>2</td>\n",
       "      <td>3.0</td>\n",
       "    </tr>\n",
       "    <tr>\n",
       "      <th>69997</th>\n",
       "      <td>99996</td>\n",
       "      <td>52</td>\n",
       "      <td>2</td>\n",
       "      <td>183</td>\n",
       "      <td>105.0</td>\n",
       "      <td>180</td>\n",
       "      <td>90</td>\n",
       "      <td>3</td>\n",
       "      <td>1</td>\n",
       "      <td>0</td>\n",
       "      <td>1</td>\n",
       "      <td>0</td>\n",
       "      <td>1</td>\n",
       "      <td>31.353579</td>\n",
       "      <td>3</td>\n",
       "      <td>4.0</td>\n",
       "    </tr>\n",
       "    <tr>\n",
       "      <th>69998</th>\n",
       "      <td>99998</td>\n",
       "      <td>61</td>\n",
       "      <td>1</td>\n",
       "      <td>163</td>\n",
       "      <td>72.0</td>\n",
       "      <td>135</td>\n",
       "      <td>80</td>\n",
       "      <td>1</td>\n",
       "      <td>2</td>\n",
       "      <td>0</td>\n",
       "      <td>0</td>\n",
       "      <td>0</td>\n",
       "      <td>1</td>\n",
       "      <td>27.099251</td>\n",
       "      <td>2</td>\n",
       "      <td>3.0</td>\n",
       "    </tr>\n",
       "    <tr>\n",
       "      <th>69999</th>\n",
       "      <td>99999</td>\n",
       "      <td>56</td>\n",
       "      <td>1</td>\n",
       "      <td>170</td>\n",
       "      <td>72.0</td>\n",
       "      <td>120</td>\n",
       "      <td>80</td>\n",
       "      <td>2</td>\n",
       "      <td>1</td>\n",
       "      <td>0</td>\n",
       "      <td>0</td>\n",
       "      <td>1</td>\n",
       "      <td>0</td>\n",
       "      <td>24.913495</td>\n",
       "      <td>1</td>\n",
       "      <td>3.0</td>\n",
       "    </tr>\n",
       "  </tbody>\n",
       "</table>\n",
       "<p>65273 rows × 16 columns</p>\n",
       "</div>"
      ],
      "text/plain": [
       "          id  age  gender  height  weight  ap_hi  ap_lo  cholesterol  gluc  \\\n",
       "0          0   50       2     168    62.0    110     80            1     1   \n",
       "1          1   55       1     156    85.0    140     90            3     1   \n",
       "2          2   52       1     165    64.0    130     70            3     1   \n",
       "3          3   48       2     169    82.0    150    100            1     1   \n",
       "5          8   60       1     151    67.0    120     80            2     2   \n",
       "...      ...  ...     ...     ...     ...    ...    ...          ...   ...   \n",
       "69994  99992   58       1     165    80.0    150     80            1     1   \n",
       "69995  99993   53       2     168    76.0    120     80            1     1   \n",
       "69997  99996   52       2     183   105.0    180     90            3     1   \n",
       "69998  99998   61       1     163    72.0    135     80            1     2   \n",
       "69999  99999   56       1     170    72.0    120     80            2     1   \n",
       "\n",
       "       smoke  alco  active  cardio        BMI  BMI_category  BP_category  \n",
       "0          0     0       1       0  21.967120             1          3.0  \n",
       "1          0     0       1       1  34.927679             3          4.0  \n",
       "2          0     0       0       1  23.507805             1          3.0  \n",
       "3          0     0       1       1  28.710479             2          4.0  \n",
       "5          0     0       0       0  29.384676             2          3.0  \n",
       "...      ...   ...     ...     ...        ...           ...          ...  \n",
       "69994      0     0       1       1  29.384757             2          3.0  \n",
       "69995      1     0       1       0  26.927438             2          3.0  \n",
       "69997      0     1       0       1  31.353579             3          4.0  \n",
       "69998      0     0       0       1  27.099251             2          3.0  \n",
       "69999      0     0       1       0  24.913495             1          3.0  \n",
       "\n",
       "[65273 rows x 16 columns]"
      ]
     },
     "execution_count": 3,
     "metadata": {},
     "output_type": "execute_result"
    }
   ],
   "source": [
    "df"
   ]
  },
  {
   "cell_type": "code",
   "execution_count": 4,
   "metadata": {},
   "outputs": [],
   "source": [
    "df_2.drop('id', axis=1, inplace=True) # did not want to keep this column since id is arbitrary and might mess up the model accuracy"
   ]
  },
  {
   "cell_type": "code",
   "execution_count": 5,
   "metadata": {},
   "outputs": [],
   "source": [
    "from sklearn.model_selection import train_test_split\n",
    "\n",
    "# splitting the data into train, validation and test sets\n",
    "X_train, X_test, y_train, y_test = train_test_split(df_2.drop('cardio', axis=1), df_2['cardio'], test_size=0.15, random_state=42)\n",
    "X_train, X_val, y_train, y_val = train_test_split(X_train, y_train, test_size=0.1765, random_state=42)\n"
   ]
  },
  {
   "attachments": {},
   "cell_type": "markdown",
   "metadata": {},
   "source": [
    "### Why Scale, Standardize, or Normalize?\n",
    "- Many machine learning algorithms perform better or converge faster when features are on a relatively similar scale and/or close to normally distributed. Examples of such algorithm families include:"
   ]
  },
  {
   "cell_type": "code",
   "execution_count": 6,
   "metadata": {},
   "outputs": [],
   "source": [
    "from sklearn.preprocessing import StandardScaler, MinMaxScaler\n",
    "\n",
    "# standardizing the features\n",
    "# scaler = StandardScaler()\n",
    "# X_train = scaler.fit_transform(X_train)\n",
    "# X_val = scaler.transform(X_val)\n",
    "# X_test = scaler.transform(X_test)\n",
    "\n",
    "# normalizing the features\n",
    "normalizer = MinMaxScaler()\n",
    "X_train = normalizer.fit_transform(X_train)\n",
    "X_val = normalizer.transform(X_val)\n",
    "X_test = normalizer.transform(X_test)\n",
    "\n",
    "# pretty much no difference between standardizing and normalizing the features both indivudually and together"
   ]
  },
  {
   "cell_type": "code",
   "execution_count": 7,
   "metadata": {},
   "outputs": [],
   "source": [
    "from sklearn.model_selection import GridSearchCV\n",
    "from sklearn.svm import SVC\n",
    "from sklearn.ensemble import RandomForestClassifier\n",
    "from sklearn.linear_model import LinearRegression\n",
    "from sklearn.neighbors import KNeighborsClassifier\n",
    "from sklearn.linear_model import LogisticRegression\n",
    "# import suport vector machine\n",
    "from sklearn.svm import SVC\n",
    "\n",
    "\n",
    "# hyperparameters for SVM\n",
    "svm_params = {'kernel': ['linear', 'poly', 'rbf', 'sigmoid'], 'gamma': ['scale', 'auto']}\n",
    "\n",
    "# hyperparameters for RF\n",
    "rf_params = {'max_leaf_nodes': [1, 2, 3], 'max_depth': [2, 4, 6], 'min_samples_split': [2, 5, 10]}\n",
    "\n",
    "# hyperparameters for KNN\n",
    "k_neigh_params = {'n_neighbors': [1, 2, 5, 10, 15, 20], 'weights': ['uniform', 'distance'], \"metric\": ['euclidean', 'manhattan', 'minkowski']}\n",
    "\n",
    "# hyperparameters for LR\n",
    "log_reg_params = {'penalty': ['l1', 'l2', 'elasticnet', 'none'], 'solver': ['newton-cg', 'lbfgs', 'liblinear', 'sag', 'saga']}\n",
    "\n",
    "# dictionary of hyperparameters for each model\n",
    "param_grids = {'KNN': k_neigh_params, 'LR': log_reg_params, 'RF': rf_params, 'SVM': svm_params}\n",
    "\n",
    "# ran the cell two seperate times, don't wanna rerun it again since it takes about 40 minutes to run\n",
    "# All scores for the hyperparameters are below"
   ]
  },
  {
   "cell_type": "code",
   "execution_count": 8,
   "metadata": {},
   "outputs": [],
   "source": [
    "# models = {\"KNN\": KNeighborsClassifier(), \"LR\": LogisticRegression(), \"RF\": RandomForestClassifier(), \"SVM\": SVC()}\n",
    "\n",
    "# # performs grid search for each model\n",
    "# for model_name, model in models.items():\n",
    "#     grid = GridSearchCV(model, param_grid=param_grids[model_name], scoring='accuracy', cv=5)\n",
    "#     grid.fit(X_train, y_train)\n",
    "#     print(f\"{model_name}: Best Parameters: {grid.best_params_}\")\n",
    "#     print(f\"{model_name}: Best Score: {grid.best_score_}\")\n"
   ]
  },
  {
   "attachments": {},
   "cell_type": "markdown",
   "metadata": {},
   "source": [
    "----------------------------------SVM----------------------------------------------------------------\n",
    "- Best parameters for SVM: \"Gamma\": \"scale\", \"kernel\": \"rbf\"\n",
    "- Tested: \"Gamma\": [\"auto\", \"scale\"]\n",
    "- Tested: \"kernel\": ['linear', 'poly', 'rbf', 'sigmoid']\n",
    "\n",
    "-----------------------------------RF--------------------------------------------------------------\n",
    "- Best parameters for RF: 'max_depth': 4, 'max_leaf_nodes': 3, 'min_samples_split': 2\n",
    "- Tested:'max_leaf_nodes': [1, 2, 3]\n",
    "- Tested:'max_depth': [2, 4, 6]\n",
    "- Tested: 'min_samples_split': [2, 5, 10]\n",
    "\n",
    "---------------------------------------LR-----------------------------------------------------------\n",
    "- Best Parameters: {'penalty': 'l2', 'solver': 'liblinear'}\n",
    "- Tested: 'penalty': ['l1', 'l2', 'elasticnet', 'none']\n",
    "- Tested: 'solver': ['newton-cg', 'lbfgs', 'liblinear', 'sag', 'saga']\n",
    "\n",
    "---------------------------------------KNN-----------------------------------------------------------\n",
    "- KNN: Best Parameters: 'metric': 'manhattan', 'n_neighbors': 20, 'weights': 'uniform'\n",
    "- Tested: k_neigh_params = 'n_neighbors': [1, 2, 5, 10, 15, 20]\n",
    "- Tested: 'weights': ['uniform', 'distance']\n",
    "- Tested: \"metric\": ['euclidean', 'manhattan', 'minkowski']"
   ]
  },
  {
   "cell_type": "code",
   "execution_count": 9,
   "metadata": {},
   "outputs": [
    {
     "name": "stdout",
     "output_type": "stream",
     "text": [
      "SVM Validation Accuracy: 0.7250076585316042\n",
      "RF Validation Accuracy: 0.7273562748902277\n",
      "LR Validation Accuracy: 0.7243949760032676\n",
      "KNN Validation Accuracy: 0.7151026243234964\n"
     ]
    }
   ],
   "source": [
    "from sklearn.metrics import accuracy_score\n",
    "\n",
    "# testing on validation set first\n",
    "svm = SVC(C=1, kernel='rbf', gamma='scale')\n",
    "svm.fit(X_train, y_train)\n",
    "svm_preds = svm.predict(X_val)\n",
    "\n",
    "rf = RandomForestClassifier(max_depth=10, min_samples_split=10, n_estimators=100)\n",
    "rf.fit(X_train, y_train)\n",
    "rf_preds = rf.predict(X_val)\n",
    "\n",
    "lr = LogisticRegression(penalty='l2', solver='liblinear')\n",
    "lr.fit(X_train, y_train)\n",
    "lr_preds = lr.predict(X_val)\n",
    "\n",
    "knn = KNeighborsClassifier(n_neighbors=20, weights='uniform', metric='manhattan')\n",
    "knn.fit(X_train, y_train)\n",
    "knn_preds = knn.predict(X_val)\n",
    "\n",
    "\n",
    "svm_acc = accuracy_score(y_val, svm_preds)\n",
    "rf_acc = accuracy_score(y_val, rf_preds)\n",
    "lr_acc = accuracy_score(y_val, lr_preds)\n",
    "knn_acc = accuracy_score(y_val, knn_preds)\n",
    "\n",
    "print('SVM Validation Accuracy:', svm_acc)\n",
    "print('RF Validation Accuracy:', rf_acc)\n",
    "print('LR Validation Accuracy:', lr_acc)\n",
    "print('KNN Validation Accuracy:', knn_acc)\n"
   ]
  },
  {
   "cell_type": "code",
   "execution_count": 10,
   "metadata": {},
   "outputs": [
    {
     "name": "stdout",
     "output_type": "stream",
     "text": [
      "SVM Test Accuracy: 0.7255642937391482\n",
      "RF Test Accuracy: 0.7275048513941375\n",
      "LR Test Accuracy: 0.7196404861607599\n",
      "KNN Test Accuracy: 0.7168828515984067\n"
     ]
    }
   ],
   "source": [
    "# predicts on test set\n",
    "# calculate test accuracy for SVM\n",
    "svm_test_preds = svm.predict(X_test)\n",
    "svm_test_acc = accuracy_score(y_test, svm_test_preds)\n",
    "print(f'SVM Test Accuracy: {svm_test_acc}')\n",
    "\n",
    "# calculate test accuracy for RF\n",
    "rf_test_preds = rf.predict(X_test)\n",
    "rf_test_acc = accuracy_score(y_test, rf_test_preds)\n",
    "print(f'RF Test Accuracy: {rf_test_acc}')\n",
    "\n",
    "# calculate test accuracy for LR\n",
    "lr_test_preds = lr.predict(X_test)\n",
    "lr_test_acc = accuracy_score(y_test, lr_test_preds)\n",
    "print(f'LR Test Accuracy: {lr_test_acc}')\n",
    "\n",
    "# calculate test accuracy for KNN\n",
    "knn_test_preds = knn.predict(X_test)\n",
    "knn_test_acc = accuracy_score(y_test, knn_test_preds)\n",
    "print(f'KNN Test Accuracy: {knn_test_acc}')"
   ]
  },
  {
   "attachments": {},
   "cell_type": "markdown",
   "metadata": {},
   "source": [
    "# 2.5"
   ]
  },
  {
   "attachments": {},
   "cell_type": "markdown",
   "metadata": {},
   "source": [
    "### Testing combining models "
   ]
  },
  {
   "cell_type": "code",
   "execution_count": 13,
   "metadata": {},
   "outputs": [
    {
     "name": "stdout",
     "output_type": "stream",
     "text": [
      "              precision    recall  f1-score   support\n",
      "\n",
      "           0       0.70      0.80      0.74      4878\n",
      "           1       0.76      0.65      0.70      4915\n",
      "\n",
      "    accuracy                           0.73      9793\n",
      "   macro avg       0.73      0.73      0.72      9793\n",
      "weighted avg       0.73      0.73      0.72      9793\n",
      "\n"
     ]
    },
    {
     "data": {
      "image/png": "[encoded data removed]",
      "text/plain": [
       "<Figure size 640x480 with 2 Axes>"
      ]
     },
     "metadata": {},
     "output_type": "display_data"
    }
   ],
   "source": [
    "# import votingclassifier\n",
    "from sklearn.naive_bayes import MultinomialNB, ComplementNB, BernoulliNB\n",
    "from sklearn.ensemble import VotingClassifier\n",
    "from sklearn.metrics import confusion_matrix, ConfusionMatrixDisplay, classification_report\n",
    "\n",
    "def evaluate_model(model):\n",
    "    model.fit(X_train, y_train)\n",
    "    y_pred = model.predict(X_val)\n",
    "\n",
    "    print(classification_report(y_val, y_pred))\n",
    "    cm = confusion_matrix(y_val, y_pred)\n",
    "    ConfusionMatrixDisplay(cm).plot()\n",
    "\n",
    "vote_clf = VotingClassifier(\n",
    "    [(\"rf\", RandomForestClassifier(max_depth=10, min_samples_split=10, n_estimators=100)),\n",
    "     (\"svc\", SVC(kernel='rbf', gamma='scale')),\n",
    "        (\"knn\", KNeighborsClassifier(n_neighbors=20, weights='uniform', metric='manhattan')),\n",
    "        (\"log_reg\", LogisticRegression(penalty='l2', solver='liblinear')),\n",
    "   #   (\"naive_complement\", ComplementNB()),\n",
    "   #   (\"naive_bernoulli\", BernoulliNB()),\n",
    "   #   (\"naive_multinomail\", MultinomialNB())\n",
    "   ], voting=\"hard\")\n",
    "\n",
    "evaluate_model(vote_clf)\n",
    "\n",
    "# Worse result than the best individual model for recall\n",
    "# 0.01 better recall for 0 and 0.01 worse recall for 1 without naive bayes"
   ]
  },
  {
   "attachments": {},
   "cell_type": "markdown",
   "metadata": {},
   "source": [
    "# 2.6"
   ]
  },
  {
   "cell_type": "code",
   "execution_count": null,
   "metadata": {},
   "outputs": [
    {
     "name": "stdout",
     "output_type": "stream",
     "text": [
      "              precision    recall  f1-score   support\n",
      "\n",
      "           0       0.70      0.78      0.74      4878\n",
      "           1       0.75      0.67      0.71      4915\n",
      "\n",
      "    accuracy                           0.73      9793\n",
      "   macro avg       0.73      0.73      0.72      9793\n",
      "weighted avg       0.73      0.73      0.72      9793\n",
      "\n",
      "0.7250076585316042\n",
      "              precision    recall  f1-score   support\n",
      "\n",
      "           0       0.69      0.70      0.70      4878\n",
      "           1       0.70      0.68      0.69      4915\n",
      "\n",
      "    accuracy                           0.69      9793\n",
      "   macro avg       0.69      0.69      0.69      9793\n",
      "weighted avg       0.69      0.69      0.69      9793\n",
      "\n",
      "0.6924333707750434\n"
     ]
    },
    {
     "data": {
      "image/png": "[encoded data removed]",
      "text/plain": [
       "<Figure size 640x480 with 2 Axes>"
      ]
     },
     "metadata": {},
     "output_type": "display_data"
    },
    {
     "data": {
      "image/png": "[encoded data removed]",
      "text/plain": [
       "<Figure size 640x480 with 2 Axes>"
      ]
     },
     "metadata": {},
     "output_type": "display_data"
    }
   ],
   "source": [
    "print(evaluate_model(SVC()))\n",
    "print(evaluate_model(KNeighborsClassifier()))\n"
   ]
  },
  {
   "cell_type": "code",
   "execution_count": null,
   "metadata": {},
   "outputs": [
    {
     "name": "stdout",
     "output_type": "stream",
     "text": [
      "              precision    recall  f1-score   support\n",
      "\n",
      "           0       0.70      0.78      0.74      4878\n",
      "           1       0.76      0.67      0.71      4915\n",
      "\n",
      "    accuracy                           0.72      9793\n",
      "   macro avg       0.73      0.72      0.72      9793\n",
      "weighted avg       0.73      0.72      0.72      9793\n",
      "\n",
      "0.7242928622485448\n",
      "              precision    recall  f1-score   support\n",
      "\n",
      "           0       0.68      0.67      0.68      4878\n",
      "           1       0.68      0.69      0.69      4915\n",
      "\n",
      "    accuracy                           0.68      9793\n",
      "   macro avg       0.68      0.68      0.68      9793\n",
      "weighted avg       0.68      0.68      0.68      9793\n",
      "\n",
      "0.6815071990197079\n"
     ]
    },
    {
     "data": {
      "image/png": "[encoded data removed]",
      "text/plain": [
       "<Figure size 640x480 with 2 Axes>"
      ]
     },
     "metadata": {},
     "output_type": "display_data"
    },
    {
     "data": {
      "image/png": "[encoded data removed]",
      "text/plain": [
       "<Figure size 640x480 with 2 Axes>"
      ]
     },
     "metadata": {},
     "output_type": "display_data"
    }
   ],
   "source": [
    "print(evaluate_model(LogisticRegression()))\n",
    "print(evaluate_model(RandomForestClassifier()))"
   ]
  },
  {
   "attachments": {},
   "cell_type": "markdown",
   "metadata": {},
   "source": [
    "# 2.7"
   ]
  },
  {
   "cell_type": "code",
   "execution_count": 14,
   "metadata": {},
   "outputs": [],
   "source": [
    "# pick out 100 random rows from the dataset and export to test_samples.csv\n",
    "import random\n",
    "\n",
    "test_samples = random.sample(range(0, len(df)), 100)\n",
    "test_samples_df = df.iloc[test_samples]\n",
    "test_samples_df.to_csv('test_samples.csv', index=False)\n",
    "\n",
    "# removes the test_samples.csv from the dataset\n",
    "df = df.drop(test_samples_df.index)"
   ]
  },
  {
   "cell_type": "code",
   "execution_count": 15,
   "metadata": {},
   "outputs": [
    {
     "name": "stdout",
     "output_type": "stream",
     "text": [
      "SVM Validation Accuracy: 0.7250076585316042\n"
     ]
    }
   ],
   "source": [
    "# take best model and train on entire dataset excluding test_samples.csv\n",
    "\n",
    "# best model is SVM\n",
    "\n",
    "svm = SVC(C=1, kernel='rbf', gamma='scale')\n",
    "svm.fit(X_train, y_train)\n",
    "svm_preds = svm.predict(X_val)\n",
    "\n",
    "svm_acc = accuracy_score(y_val, svm_preds)\n",
    "print('SVM Validation Accuracy:', svm_acc)"
   ]
  },
  {
   "cell_type": "code",
   "execution_count": 16,
   "metadata": {},
   "outputs": [
    {
     "data": {
      "text/plain": [
       "['svm_model.pkl']"
      ]
     },
     "execution_count": 16,
     "metadata": {},
     "output_type": "execute_result"
    }
   ],
   "source": [
    "# save model in a .pkl file with the help of joblib.dump()\n",
    "\n",
    "import joblib\n",
    "joblib.dump(svm, 'svm_model.pkl')\n"
   ]
  },
  {
   "cell_type": "code",
   "execution_count": 17,
   "metadata": {},
   "outputs": [],
   "source": [
    "a = pd.read_csv('../Labb/test_samples.csv')"
   ]
  }
 ],
 "metadata": {
  "kernelspec": {
   "display_name": "Machine-learning-Mosm6azX",
   "language": "python",
   "name": "python3"
  },
  "language_info": {
   "codemirror_mode": {
    "name": "ipython",
    "version": 3
   },
   "file_extension": ".py",
   "mimetype": "text/x-python",
   "name": "python",
   "nbconvert_exporter": "python",
   "pygments_lexer": "ipython3",
   "version": "3.9.13"
  },
  "orig_nbformat": 4
 },
 "nbformat": 4,
 "nbformat_minor": 2
}
