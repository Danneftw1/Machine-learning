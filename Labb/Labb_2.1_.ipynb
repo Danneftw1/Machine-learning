{
 "cells": [
  {
   "attachments": {},
   "cell_type": "markdown",
   "metadata": {},
   "source": [
    "# 2.4\n",
    "- Jag vill se ifall vi predikera ifall någon är positiv för cardiovascular disease.\n",
    "- I detta fallet använder jag df_2, men jag tror att df_1 hade funkat också\n",
    "- Efter jag hade kollat runt lite på modeller som ska vara bra på kategorisk data kom jag fram till att jag vill testa:\n",
    "* KNN\n",
    "* Random Forest\n",
    "* SVM(SVC)\n",
    "* Logistic Regression\n",
    "-----------------------------------------------------------------------\n",
    "* Jag vill testa lite olika typer av hyperparametrar för att hitta den optimala kombinationen av värden som kan förbättra prestandan av mina modeller. Alltså varje hyperparameter kan påverka modellens förmåga att lära sig och generalisera från datan.\n",
    "\n",
    "* Vad som är viktigt för framtida test av hyperparametrar är att få en bättre förståelse för vad det är som kräver mycket prestanda från datorn. Alltså, vilka tester av hyperparametrar är det som tar längst tid att genomföra. Kan man få en bra förståelse för det här kan man alltså optimera för sig själv genom att kunna testa så många olika hyperparametrar som möjligt på så kort tid som möjligt.\n",
    "\n",
    "### Recall är viktigare eftersom vi vill inte ha false negatives\n",
    "### Accuracy är viktigare om vi vill ha mindre false positives"
   ]
  },
  {
   "cell_type": "code",
   "execution_count": 23,
   "metadata": {},
   "outputs": [],
   "source": [
    "import pandas as pd\n",
    "import numpy as np\n",
    "from sklearn.model_selection import train_test_split, GridSearchCV\n",
    "from sklearn.preprocessing import StandardScaler, MinMaxScaler\n",
    "from sklearn.linear_model import LogisticRegression\n",
    "from sklearn.tree import DecisionTreeClassifier\n",
    "from sklearn.ensemble import RandomForestClassifier\n",
    "from sklearn.svm import SVC\n",
    "from sklearn.neighbors import KNeighborsClassifier\n",
    "from sklearn.metrics import accuracy_score, f1_score, precision_score, recall_score"
   ]
  },
  {
   "attachments": {},
   "cell_type": "markdown",
   "metadata": {},
   "source": [
    "## Code for dfs to be correct\n",
    "- taken from 2.1, just formats the dfs to be correct."
   ]
  },
  {
   "cell_type": "code",
   "execution_count": 24,
   "metadata": {},
   "outputs": [],
   "source": [
    "df = pd.read_csv(\"../Labb/Disease_prediction/cardio_train.csv\", sep=\";\")\n",
    "\n",
    "df[\"age\"] = round(df[\"age\"]/365).astype(int) \n",
    "\n",
    "df['BMI'] = df['weight'] / (df['height']/100)**2\n",
    "\n",
    "# remove outliers that are below 15 and above 50\n",
    "df = df[df['BMI'] > 15]\n",
    "df = df[df['BMI'] < 50]\n",
    "\n",
    "df['BMI'].min(), df['BMI'].max()\n",
    "\n",
    "df['BMI_category'] = df['BMI'].apply(lambda x: 1 if x < 25 else 2 if x < 30 else 3)\n",
    "\n",
    "# removing outliers\n",
    "# set the limits for systolic blood pressure to 90-200 and for diastolic blood pressure to 60-145\n",
    "# From what I can find, you have hypotension (low blood pressure) if you go below 90/60.\n",
    "df = df[df['ap_hi'] > 90]\n",
    "df = df[df['ap_hi'] < 200] # set it to 200 since the next highest recorded value in the dataset is 197 for systolic blood pressure\n",
    "# and systolic pressure above 180 is potentially life-threatening, which means not alot of people will have a systolic blood pressure above 200\n",
    "\n",
    "# diastolic blood pressure limits\n",
    "# From what I can find, you have hypotension (low blood pressure) if you go below 60 diastolic blood pressure.\n",
    "df = df[df['ap_lo'] > 60]\n",
    "df = df[df['ap_lo'] < 145] # set the limit to 145 since the highest recorded value in the dataset is 140 for diastolic blood pressure\n",
    "\n",
    "\n",
    "df = df[df['ap_hi'] > df['ap_lo']] # removes all rows where the diastolic blood pressure is higher than the systolic blood pressure\n",
    "\n",
    "for index, row in df.iterrows():\n",
    "    sys_bp = row['ap_hi']\n",
    "    dia_bp = row['ap_lo']\n",
    "\n",
    "    new_col = 'BP_category'\n",
    "\n",
    "    # Categorize the blood pressure according to the standard guidelines from wikipedia\n",
    "    if sys_bp < 120 and dia_bp < 80:\n",
    "        df.at[index, new_col] = 1\n",
    "    elif sys_bp < 130 and dia_bp < 80:\n",
    "        df.at[index, new_col] = 2\n",
    "    elif sys_bp < 140 or dia_bp < 90:\n",
    "        df.at[index, new_col] = 3\n",
    "    elif sys_bp < 180 or dia_bp < 120:\n",
    "        df.at[index, new_col] = 4\n",
    "    elif sys_bp > 180 or dia_bp > 120:\n",
    "        df.at[index, new_col] = 5\n",
    "\n",
    "df_1 = df.drop(['ap_hi', 'ap_lo', 'height', 'weight', 'BMI'], axis=1)\n",
    "df_2 = df.drop(['height', 'weight', 'BMI_category', 'BP_category'], axis=1)"
   ]
  },
  {
   "cell_type": "code",
   "execution_count": 25,
   "metadata": {},
   "outputs": [],
   "source": [
    "df_2.drop('id', axis=1, inplace=True) # did not want to keep this column since id is arbitrary and might mess up the model accuracy"
   ]
  },
  {
   "cell_type": "code",
   "execution_count": 26,
   "metadata": {},
   "outputs": [],
   "source": [
    "from sklearn.model_selection import train_test_split\n",
    "\n",
    "# splitting the data into train, validation and test sets\n",
    "X_train, X_test, y_train, y_test = train_test_split(df_2.drop('cardio', axis=1), df_2['cardio'], test_size=0.15, random_state=42)\n",
    "X_train, X_val, y_train, y_val = train_test_split(X_train, y_train, test_size=0.1765, random_state=42)\n"
   ]
  },
  {
   "cell_type": "code",
   "execution_count": 27,
   "metadata": {},
   "outputs": [],
   "source": [
    "from sklearn.preprocessing import StandardScaler, MinMaxScaler\n",
    "\n",
    "# standardizing the features\n",
    "# scaler = StandardScaler()\n",
    "# X_train = scaler.fit_transform(X_train)\n",
    "# X_val = scaler.transform(X_val)\n",
    "# X_test = scaler.transform(X_test)\n",
    "\n",
    "# normalizing the features\n",
    "normalizer = MinMaxScaler()\n",
    "X_train = normalizer.fit_transform(X_train)\n",
    "X_val = normalizer.transform(X_val)\n",
    "X_test = normalizer.transform(X_test)\n",
    "\n",
    "# pretty much no difference between standardizing and normalizing features both indivudually and together"
   ]
  },
  {
   "attachments": {},
   "cell_type": "markdown",
   "metadata": {},
   "source": [
    "## Förklaringar för dem olika hyperparametrarna:\n",
    "\n",
    "### SVM hyperparametrar: kernel & gamma\n",
    "* Kernel-hyperparametern kontrollerar formen på beslutsgränsen i SVM-modellen. De vanligaste alternativen är linjär, polynomisk och radial basisfunktion (RBF).\n",
    "* Gamma-hyperparametern kontrollerar bredden på RBF-kärnan och påverkar hur tätt beslutsgränsen passar till träningsdatan.\n",
    "\n",
    "### Random Forest hyperparametrar: max_leaf_nodes, max_depth & min_samples_depth\n",
    "* Max_leaf_nodes-hyperparametern sätter det maximala antalet lövnoder i varje beslutsträd i random forest-modellen.\n",
    "* Max_depth-hyperparametern sätter den maximala djupet av varje beslutsträd.\n",
    "* Min_samples_leaf-hyperparametern sätter det minsta antalet exempel som krävs för att en lövnod ska skapas i varje beslutsträd.\n",
    "\n",
    "### KNN hyperparametrar: n_neighbors, weights & metric\n",
    "* N_neighbors-hyperparametern sätter antalet närmaste grannar som ska beaktas i KNN-modellen.\n",
    "* Weights-hyperparametern styr hur grannarna ska vägas när en prediktion görs.\n",
    "* Metric-hyperparametern sätter den avståndsmått som används för att mäta avståndet mellan punkter.\n",
    "\n",
    "### Logistic regression hyperparametrar: penalty & solver\n",
    "* Penalty-hyperparametern styr regulariseringstermen i logistisk regression. De vanligaste alternativen är L1- och L2-reglering.\n",
    "* Solver-hyperparametern styr optimeringsalgoritmen som används för att passa modellen. De vanligaste alternativen är lbfgs, liblinear och sag."
   ]
  },
  {
   "cell_type": "code",
   "execution_count": 28,
   "metadata": {},
   "outputs": [],
   "source": [
    "from sklearn.model_selection import GridSearchCV\n",
    "from sklearn.svm import SVC\n",
    "from sklearn.ensemble import RandomForestClassifier\n",
    "from sklearn.linear_model import LinearRegression\n",
    "from sklearn.neighbors import KNeighborsClassifier\n",
    "from sklearn.linear_model import LogisticRegression\n",
    "from sklearn.svm import SVC\n",
    "\n",
    "# hyperparameters for SVM\n",
    "svm_params = {'kernel': ['linear', 'poly', 'rbf', 'sigmoid'], 'gamma': ['scale', 'auto']}\n",
    "\n",
    "# hyperparameters for RF\n",
    "rf_params = {'max_leaf_nodes': [1, 2, 3], 'max_depth': [2, 4, 6], 'min_samples_split': [2, 5, 10]}\n",
    "\n",
    "# hyperparameters for KNN\n",
    "k_neigh_params = {'n_neighbors': [1, 2, 5, 10, 15, 20], 'weights': ['uniform', 'distance'], \"metric\": ['euclidean', 'manhattan', 'minkowski']}\n",
    "\n",
    "# hyperparameters for LR\n",
    "log_reg_params = {'penalty': ['l1', 'l2', 'elasticnet', 'none'], 'solver': ['newton-cg', 'lbfgs', 'liblinear', 'sag', 'saga']}\n",
    "\n",
    "# dictionary of hyperparameters for each model\n",
    "param_grids = {'KNN': k_neigh_params, 'LR': log_reg_params, 'RF': rf_params, 'SVM': svm_params}\n",
    "\n",
    "# All scores for the hyperparameters are below"
   ]
  },
  {
   "cell_type": "code",
   "execution_count": 29,
   "metadata": {},
   "outputs": [
    {
     "name": "stdout",
     "output_type": "stream",
     "text": [
      "KNN: Best Parameters: {'metric': 'manhattan', 'n_neighbors': 20, 'weights': 'uniform'}\n",
      "KNN: Best Score: 0.7224714172552905\n"
     ]
    },
    {
     "name": "stderr",
     "output_type": "stream",
     "text": [
      "c:\\Users\\b9ivn\\.virtualenvs\\Machine-learning-Mosm6azX\\lib\\site-packages\\sklearn\\linear_model\\_logistic.py:1173: FutureWarning: `penalty='none'`has been deprecated in 1.2 and will be removed in 1.4. To keep the past behaviour, set `penalty=None`.\n",
      "  warnings.warn(\n",
      "c:\\Users\\b9ivn\\.virtualenvs\\Machine-learning-Mosm6azX\\lib\\site-packages\\sklearn\\linear_model\\_logistic.py:1173: FutureWarning: `penalty='none'`has been deprecated in 1.2 and will be removed in 1.4. To keep the past behaviour, set `penalty=None`.\n",
      "  warnings.warn(\n",
      "c:\\Users\\b9ivn\\.virtualenvs\\Machine-learning-Mosm6azX\\lib\\site-packages\\sklearn\\linear_model\\_logistic.py:1173: FutureWarning: `penalty='none'`has been deprecated in 1.2 and will be removed in 1.4. To keep the past behaviour, set `penalty=None`.\n",
      "  warnings.warn(\n",
      "c:\\Users\\b9ivn\\.virtualenvs\\Machine-learning-Mosm6azX\\lib\\site-packages\\sklearn\\linear_model\\_logistic.py:1173: FutureWarning: `penalty='none'`has been deprecated in 1.2 and will be removed in 1.4. To keep the past behaviour, set `penalty=None`.\n",
      "  warnings.warn(\n",
      "c:\\Users\\b9ivn\\.virtualenvs\\Machine-learning-Mosm6azX\\lib\\site-packages\\sklearn\\linear_model\\_logistic.py:1173: FutureWarning: `penalty='none'`has been deprecated in 1.2 and will be removed in 1.4. To keep the past behaviour, set `penalty=None`.\n",
      "  warnings.warn(\n",
      "c:\\Users\\b9ivn\\.virtualenvs\\Machine-learning-Mosm6azX\\lib\\site-packages\\sklearn\\linear_model\\_logistic.py:1173: FutureWarning: `penalty='none'`has been deprecated in 1.2 and will be removed in 1.4. To keep the past behaviour, set `penalty=None`.\n",
      "  warnings.warn(\n",
      "c:\\Users\\b9ivn\\.virtualenvs\\Machine-learning-Mosm6azX\\lib\\site-packages\\sklearn\\linear_model\\_logistic.py:1173: FutureWarning: `penalty='none'`has been deprecated in 1.2 and will be removed in 1.4. To keep the past behaviour, set `penalty=None`.\n",
      "  warnings.warn(\n",
      "c:\\Users\\b9ivn\\.virtualenvs\\Machine-learning-Mosm6azX\\lib\\site-packages\\sklearn\\linear_model\\_logistic.py:1173: FutureWarning: `penalty='none'`has been deprecated in 1.2 and will be removed in 1.4. To keep the past behaviour, set `penalty=None`.\n",
      "  warnings.warn(\n",
      "c:\\Users\\b9ivn\\.virtualenvs\\Machine-learning-Mosm6azX\\lib\\site-packages\\sklearn\\linear_model\\_logistic.py:1173: FutureWarning: `penalty='none'`has been deprecated in 1.2 and will be removed in 1.4. To keep the past behaviour, set `penalty=None`.\n",
      "  warnings.warn(\n",
      "c:\\Users\\b9ivn\\.virtualenvs\\Machine-learning-Mosm6azX\\lib\\site-packages\\sklearn\\linear_model\\_logistic.py:1173: FutureWarning: `penalty='none'`has been deprecated in 1.2 and will be removed in 1.4. To keep the past behaviour, set `penalty=None`.\n",
      "  warnings.warn(\n",
      "c:\\Users\\b9ivn\\.virtualenvs\\Machine-learning-Mosm6azX\\lib\\site-packages\\sklearn\\linear_model\\_logistic.py:1173: FutureWarning: `penalty='none'`has been deprecated in 1.2 and will be removed in 1.4. To keep the past behaviour, set `penalty=None`.\n",
      "  warnings.warn(\n",
      "c:\\Users\\b9ivn\\.virtualenvs\\Machine-learning-Mosm6azX\\lib\\site-packages\\sklearn\\linear_model\\_logistic.py:1173: FutureWarning: `penalty='none'`has been deprecated in 1.2 and will be removed in 1.4. To keep the past behaviour, set `penalty=None`.\n",
      "  warnings.warn(\n",
      "c:\\Users\\b9ivn\\.virtualenvs\\Machine-learning-Mosm6azX\\lib\\site-packages\\sklearn\\linear_model\\_logistic.py:1173: FutureWarning: `penalty='none'`has been deprecated in 1.2 and will be removed in 1.4. To keep the past behaviour, set `penalty=None`.\n",
      "  warnings.warn(\n",
      "c:\\Users\\b9ivn\\.virtualenvs\\Machine-learning-Mosm6azX\\lib\\site-packages\\sklearn\\linear_model\\_logistic.py:1173: FutureWarning: `penalty='none'`has been deprecated in 1.2 and will be removed in 1.4. To keep the past behaviour, set `penalty=None`.\n",
      "  warnings.warn(\n",
      "c:\\Users\\b9ivn\\.virtualenvs\\Machine-learning-Mosm6azX\\lib\\site-packages\\sklearn\\linear_model\\_logistic.py:1173: FutureWarning: `penalty='none'`has been deprecated in 1.2 and will be removed in 1.4. To keep the past behaviour, set `penalty=None`.\n",
      "  warnings.warn(\n",
      "c:\\Users\\b9ivn\\.virtualenvs\\Machine-learning-Mosm6azX\\lib\\site-packages\\sklearn\\linear_model\\_logistic.py:1173: FutureWarning: `penalty='none'`has been deprecated in 1.2 and will be removed in 1.4. To keep the past behaviour, set `penalty=None`.\n",
      "  warnings.warn(\n",
      "c:\\Users\\b9ivn\\.virtualenvs\\Machine-learning-Mosm6azX\\lib\\site-packages\\sklearn\\linear_model\\_logistic.py:1173: FutureWarning: `penalty='none'`has been deprecated in 1.2 and will be removed in 1.4. To keep the past behaviour, set `penalty=None`.\n",
      "  warnings.warn(\n",
      "c:\\Users\\b9ivn\\.virtualenvs\\Machine-learning-Mosm6azX\\lib\\site-packages\\sklearn\\linear_model\\_logistic.py:1173: FutureWarning: `penalty='none'`has been deprecated in 1.2 and will be removed in 1.4. To keep the past behaviour, set `penalty=None`.\n",
      "  warnings.warn(\n",
      "c:\\Users\\b9ivn\\.virtualenvs\\Machine-learning-Mosm6azX\\lib\\site-packages\\sklearn\\linear_model\\_logistic.py:1173: FutureWarning: `penalty='none'`has been deprecated in 1.2 and will be removed in 1.4. To keep the past behaviour, set `penalty=None`.\n",
      "  warnings.warn(\n",
      "c:\\Users\\b9ivn\\.virtualenvs\\Machine-learning-Mosm6azX\\lib\\site-packages\\sklearn\\linear_model\\_logistic.py:1173: FutureWarning: `penalty='none'`has been deprecated in 1.2 and will be removed in 1.4. To keep the past behaviour, set `penalty=None`.\n",
      "  warnings.warn(\n",
      "c:\\Users\\b9ivn\\.virtualenvs\\Machine-learning-Mosm6azX\\lib\\site-packages\\sklearn\\model_selection\\_validation.py:378: FitFailedWarning: \n",
      "45 fits failed out of a total of 100.\n",
      "The score on these train-test partitions for these parameters will be set to nan.\n",
      "If these failures are not expected, you can try to debug them by setting error_score='raise'.\n",
      "\n",
      "Below are more details about the failures:\n",
      "--------------------------------------------------------------------------------\n",
      "5 fits failed with the following error:\n",
      "Traceback (most recent call last):\n",
      "  File \"c:\\Users\\b9ivn\\.virtualenvs\\Machine-learning-Mosm6azX\\lib\\site-packages\\sklearn\\model_selection\\_validation.py\", line 686, in _fit_and_score\n",
      "    estimator.fit(X_train, y_train, **fit_params)\n",
      "  File \"c:\\Users\\b9ivn\\.virtualenvs\\Machine-learning-Mosm6azX\\lib\\site-packages\\sklearn\\linear_model\\_logistic.py\", line 1162, in fit\n",
      "    solver = _check_solver(self.solver, self.penalty, self.dual)\n",
      "  File \"c:\\Users\\b9ivn\\.virtualenvs\\Machine-learning-Mosm6azX\\lib\\site-packages\\sklearn\\linear_model\\_logistic.py\", line 54, in _check_solver\n",
      "    raise ValueError(\n",
      "ValueError: Solver newton-cg supports only 'l2' or 'none' penalties, got l1 penalty.\n",
      "\n",
      "--------------------------------------------------------------------------------\n",
      "5 fits failed with the following error:\n",
      "Traceback (most recent call last):\n",
      "  File \"c:\\Users\\b9ivn\\.virtualenvs\\Machine-learning-Mosm6azX\\lib\\site-packages\\sklearn\\model_selection\\_validation.py\", line 686, in _fit_and_score\n",
      "    estimator.fit(X_train, y_train, **fit_params)\n",
      "  File \"c:\\Users\\b9ivn\\.virtualenvs\\Machine-learning-Mosm6azX\\lib\\site-packages\\sklearn\\linear_model\\_logistic.py\", line 1162, in fit\n",
      "    solver = _check_solver(self.solver, self.penalty, self.dual)\n",
      "  File \"c:\\Users\\b9ivn\\.virtualenvs\\Machine-learning-Mosm6azX\\lib\\site-packages\\sklearn\\linear_model\\_logistic.py\", line 54, in _check_solver\n",
      "    raise ValueError(\n",
      "ValueError: Solver lbfgs supports only 'l2' or 'none' penalties, got l1 penalty.\n",
      "\n",
      "--------------------------------------------------------------------------------\n",
      "5 fits failed with the following error:\n",
      "Traceback (most recent call last):\n",
      "  File \"c:\\Users\\b9ivn\\.virtualenvs\\Machine-learning-Mosm6azX\\lib\\site-packages\\sklearn\\model_selection\\_validation.py\", line 686, in _fit_and_score\n",
      "    estimator.fit(X_train, y_train, **fit_params)\n",
      "  File \"c:\\Users\\b9ivn\\.virtualenvs\\Machine-learning-Mosm6azX\\lib\\site-packages\\sklearn\\linear_model\\_logistic.py\", line 1162, in fit\n",
      "    solver = _check_solver(self.solver, self.penalty, self.dual)\n",
      "  File \"c:\\Users\\b9ivn\\.virtualenvs\\Machine-learning-Mosm6azX\\lib\\site-packages\\sklearn\\linear_model\\_logistic.py\", line 54, in _check_solver\n",
      "    raise ValueError(\n",
      "ValueError: Solver sag supports only 'l2' or 'none' penalties, got l1 penalty.\n",
      "\n",
      "--------------------------------------------------------------------------------\n",
      "5 fits failed with the following error:\n",
      "Traceback (most recent call last):\n",
      "  File \"c:\\Users\\b9ivn\\.virtualenvs\\Machine-learning-Mosm6azX\\lib\\site-packages\\sklearn\\model_selection\\_validation.py\", line 686, in _fit_and_score\n",
      "    estimator.fit(X_train, y_train, **fit_params)\n",
      "  File \"c:\\Users\\b9ivn\\.virtualenvs\\Machine-learning-Mosm6azX\\lib\\site-packages\\sklearn\\linear_model\\_logistic.py\", line 1162, in fit\n",
      "    solver = _check_solver(self.solver, self.penalty, self.dual)\n",
      "  File \"c:\\Users\\b9ivn\\.virtualenvs\\Machine-learning-Mosm6azX\\lib\\site-packages\\sklearn\\linear_model\\_logistic.py\", line 54, in _check_solver\n",
      "    raise ValueError(\n",
      "ValueError: Solver newton-cg supports only 'l2' or 'none' penalties, got elasticnet penalty.\n",
      "\n",
      "--------------------------------------------------------------------------------\n",
      "5 fits failed with the following error:\n",
      "Traceback (most recent call last):\n",
      "  File \"c:\\Users\\b9ivn\\.virtualenvs\\Machine-learning-Mosm6azX\\lib\\site-packages\\sklearn\\model_selection\\_validation.py\", line 686, in _fit_and_score\n",
      "    estimator.fit(X_train, y_train, **fit_params)\n",
      "  File \"c:\\Users\\b9ivn\\.virtualenvs\\Machine-learning-Mosm6azX\\lib\\site-packages\\sklearn\\linear_model\\_logistic.py\", line 1162, in fit\n",
      "    solver = _check_solver(self.solver, self.penalty, self.dual)\n",
      "  File \"c:\\Users\\b9ivn\\.virtualenvs\\Machine-learning-Mosm6azX\\lib\\site-packages\\sklearn\\linear_model\\_logistic.py\", line 54, in _check_solver\n",
      "    raise ValueError(\n",
      "ValueError: Solver lbfgs supports only 'l2' or 'none' penalties, got elasticnet penalty.\n",
      "\n",
      "--------------------------------------------------------------------------------\n",
      "5 fits failed with the following error:\n",
      "Traceback (most recent call last):\n",
      "  File \"c:\\Users\\b9ivn\\.virtualenvs\\Machine-learning-Mosm6azX\\lib\\site-packages\\sklearn\\model_selection\\_validation.py\", line 686, in _fit_and_score\n",
      "    estimator.fit(X_train, y_train, **fit_params)\n",
      "  File \"c:\\Users\\b9ivn\\.virtualenvs\\Machine-learning-Mosm6azX\\lib\\site-packages\\sklearn\\linear_model\\_logistic.py\", line 1162, in fit\n",
      "    solver = _check_solver(self.solver, self.penalty, self.dual)\n",
      "  File \"c:\\Users\\b9ivn\\.virtualenvs\\Machine-learning-Mosm6azX\\lib\\site-packages\\sklearn\\linear_model\\_logistic.py\", line 64, in _check_solver\n",
      "    raise ValueError(\n",
      "ValueError: Only 'saga' solver supports elasticnet penalty, got solver=liblinear.\n",
      "\n",
      "--------------------------------------------------------------------------------\n",
      "5 fits failed with the following error:\n",
      "Traceback (most recent call last):\n",
      "  File \"c:\\Users\\b9ivn\\.virtualenvs\\Machine-learning-Mosm6azX\\lib\\site-packages\\sklearn\\model_selection\\_validation.py\", line 686, in _fit_and_score\n",
      "    estimator.fit(X_train, y_train, **fit_params)\n",
      "  File \"c:\\Users\\b9ivn\\.virtualenvs\\Machine-learning-Mosm6azX\\lib\\site-packages\\sklearn\\linear_model\\_logistic.py\", line 1162, in fit\n",
      "    solver = _check_solver(self.solver, self.penalty, self.dual)\n",
      "  File \"c:\\Users\\b9ivn\\.virtualenvs\\Machine-learning-Mosm6azX\\lib\\site-packages\\sklearn\\linear_model\\_logistic.py\", line 54, in _check_solver\n",
      "    raise ValueError(\n",
      "ValueError: Solver sag supports only 'l2' or 'none' penalties, got elasticnet penalty.\n",
      "\n",
      "--------------------------------------------------------------------------------\n",
      "5 fits failed with the following error:\n",
      "Traceback (most recent call last):\n",
      "  File \"c:\\Users\\b9ivn\\.virtualenvs\\Machine-learning-Mosm6azX\\lib\\site-packages\\sklearn\\model_selection\\_validation.py\", line 686, in _fit_and_score\n",
      "    estimator.fit(X_train, y_train, **fit_params)\n",
      "  File \"c:\\Users\\b9ivn\\.virtualenvs\\Machine-learning-Mosm6azX\\lib\\site-packages\\sklearn\\linear_model\\_logistic.py\", line 1291, in fit\n",
      "    fold_coefs_ = Parallel(n_jobs=self.n_jobs, verbose=self.verbose, prefer=prefer)(\n",
      "  File \"c:\\Users\\b9ivn\\.virtualenvs\\Machine-learning-Mosm6azX\\lib\\site-packages\\sklearn\\utils\\parallel.py\", line 63, in __call__\n",
      "    return super().__call__(iterable_with_config)\n",
      "  File \"c:\\Users\\b9ivn\\.virtualenvs\\Machine-learning-Mosm6azX\\lib\\site-packages\\joblib\\parallel.py\", line 1085, in __call__\n",
      "    if self.dispatch_one_batch(iterator):\n",
      "  File \"c:\\Users\\b9ivn\\.virtualenvs\\Machine-learning-Mosm6azX\\lib\\site-packages\\joblib\\parallel.py\", line 901, in dispatch_one_batch\n",
      "    self._dispatch(tasks)\n",
      "  File \"c:\\Users\\b9ivn\\.virtualenvs\\Machine-learning-Mosm6azX\\lib\\site-packages\\joblib\\parallel.py\", line 819, in _dispatch\n",
      "    job = self._backend.apply_async(batch, callback=cb)\n",
      "  File \"c:\\Users\\b9ivn\\.virtualenvs\\Machine-learning-Mosm6azX\\lib\\site-packages\\joblib\\_parallel_backends.py\", line 208, in apply_async\n",
      "    result = ImmediateResult(func)\n",
      "  File \"c:\\Users\\b9ivn\\.virtualenvs\\Machine-learning-Mosm6azX\\lib\\site-packages\\joblib\\_parallel_backends.py\", line 597, in __init__\n",
      "    self.results = batch()\n",
      "  File \"c:\\Users\\b9ivn\\.virtualenvs\\Machine-learning-Mosm6azX\\lib\\site-packages\\joblib\\parallel.py\", line 288, in __call__\n",
      "    return [func(*args, **kwargs)\n",
      "  File \"c:\\Users\\b9ivn\\.virtualenvs\\Machine-learning-Mosm6azX\\lib\\site-packages\\joblib\\parallel.py\", line 288, in <listcomp>\n",
      "    return [func(*args, **kwargs)\n",
      "  File \"c:\\Users\\b9ivn\\.virtualenvs\\Machine-learning-Mosm6azX\\lib\\site-packages\\sklearn\\utils\\parallel.py\", line 123, in __call__\n",
      "    return self.function(*args, **kwargs)\n",
      "  File \"c:\\Users\\b9ivn\\.virtualenvs\\Machine-learning-Mosm6azX\\lib\\site-packages\\sklearn\\linear_model\\_logistic.py\", line 521, in _logistic_regression_path\n",
      "    alpha = (1.0 / C) * (1 - l1_ratio)\n",
      "TypeError: unsupported operand type(s) for -: 'int' and 'NoneType'\n",
      "\n",
      "--------------------------------------------------------------------------------\n",
      "5 fits failed with the following error:\n",
      "Traceback (most recent call last):\n",
      "  File \"c:\\Users\\b9ivn\\.virtualenvs\\Machine-learning-Mosm6azX\\lib\\site-packages\\sklearn\\model_selection\\_validation.py\", line 686, in _fit_and_score\n",
      "    estimator.fit(X_train, y_train, **fit_params)\n",
      "  File \"c:\\Users\\b9ivn\\.virtualenvs\\Machine-learning-Mosm6azX\\lib\\site-packages\\sklearn\\linear_model\\_logistic.py\", line 1162, in fit\n",
      "    solver = _check_solver(self.solver, self.penalty, self.dual)\n",
      "  File \"c:\\Users\\b9ivn\\.virtualenvs\\Machine-learning-Mosm6azX\\lib\\site-packages\\sklearn\\linear_model\\_logistic.py\", line 71, in _check_solver\n",
      "    raise ValueError(\"penalty='none' is not supported for the liblinear solver\")\n",
      "ValueError: penalty='none' is not supported for the liblinear solver\n",
      "\n",
      "  warnings.warn(some_fits_failed_message, FitFailedWarning)\n",
      "c:\\Users\\b9ivn\\.virtualenvs\\Machine-learning-Mosm6azX\\lib\\site-packages\\sklearn\\model_selection\\_search.py:952: UserWarning: One or more of the test scores are non-finite: [       nan        nan 0.72617034        nan 0.72619223 0.72612656\n",
      " 0.72612656 0.72625788 0.72612657 0.72612656        nan        nan\n",
      "        nan        nan        nan 0.72619222 0.72617034        nan\n",
      " 0.72621411 0.72619223]\n",
      "  warnings.warn(\n"
     ]
    },
    {
     "name": "stdout",
     "output_type": "stream",
     "text": [
      "LR: Best Parameters: {'penalty': 'l2', 'solver': 'liblinear'}\n",
      "LR: Best Score: 0.7262578804254289\n"
     ]
    },
    {
     "name": "stderr",
     "output_type": "stream",
     "text": [
      "c:\\Users\\b9ivn\\.virtualenvs\\Machine-learning-Mosm6azX\\lib\\site-packages\\sklearn\\model_selection\\_validation.py:378: FitFailedWarning: \n",
      "45 fits failed out of a total of 135.\n",
      "The score on these train-test partitions for these parameters will be set to nan.\n",
      "If these failures are not expected, you can try to debug them by setting error_score='raise'.\n",
      "\n",
      "Below are more details about the failures:\n",
      "--------------------------------------------------------------------------------\n",
      "45 fits failed with the following error:\n",
      "Traceback (most recent call last):\n",
      "  File \"c:\\Users\\b9ivn\\.virtualenvs\\Machine-learning-Mosm6azX\\lib\\site-packages\\sklearn\\model_selection\\_validation.py\", line 686, in _fit_and_score\n",
      "    estimator.fit(X_train, y_train, **fit_params)\n",
      "  File \"c:\\Users\\b9ivn\\.virtualenvs\\Machine-learning-Mosm6azX\\lib\\site-packages\\sklearn\\ensemble\\_forest.py\", line 340, in fit\n",
      "    self._validate_params()\n",
      "  File \"c:\\Users\\b9ivn\\.virtualenvs\\Machine-learning-Mosm6azX\\lib\\site-packages\\sklearn\\base.py\", line 581, in _validate_params\n",
      "    validate_parameter_constraints(\n",
      "  File \"c:\\Users\\b9ivn\\.virtualenvs\\Machine-learning-Mosm6azX\\lib\\site-packages\\sklearn\\utils\\_param_validation.py\", line 97, in validate_parameter_constraints\n",
      "    raise InvalidParameterError(\n",
      "sklearn.utils._param_validation.InvalidParameterError: The 'max_leaf_nodes' parameter of RandomForestClassifier must be an int in the range [2, inf) or None. Got 1 instead.\n",
      "\n",
      "  warnings.warn(some_fits_failed_message, FitFailedWarning)\n",
      "c:\\Users\\b9ivn\\.virtualenvs\\Machine-learning-Mosm6azX\\lib\\site-packages\\sklearn\\model_selection\\_search.py:952: UserWarning: One or more of the test scores are non-finite: [       nan        nan        nan 0.71126518 0.71246901 0.7103241\n",
      " 0.71524874 0.71769989 0.71439515        nan        nan        nan\n",
      " 0.71084936 0.71417615 0.71424176 0.71794082 0.71675893 0.71507352\n",
      "        nan        nan        nan 0.71109004 0.71179047 0.71172484\n",
      " 0.71448257 0.71662746 0.71890386]\n",
      "  warnings.warn(\n"
     ]
    },
    {
     "name": "stdout",
     "output_type": "stream",
     "text": [
      "RF: Best Parameters: {'max_depth': 6, 'max_leaf_nodes': 3, 'min_samples_split': 10}\n",
      "RF: Best Score: 0.7189038610793942\n",
      "SVM: Best Parameters: {'gamma': 'scale', 'kernel': 'rbf'}\n",
      "SVM: Best Score: 0.7303289008900841\n"
     ]
    }
   ],
   "source": [
    "models = {\"KNN\": KNeighborsClassifier(), \"LR\": LogisticRegression(), \"RF\": RandomForestClassifier(), \"SVM\": SVC()}\n",
    "\n",
    "# performs grid search for each model\n",
    "for model_name, model in models.items():\n",
    "    grid = GridSearchCV(model, param_grid=param_grids[model_name], scoring='accuracy', cv=5)\n",
    "    grid.fit(X_train, y_train)\n",
    "    print(f\"{model_name}: Best Parameters: {grid.best_params_}\")\n",
    "    print(f\"{model_name}: Best Score: {grid.best_score_}\")\n",
    "# Takes about 40 minutes to run this cell"
   ]
  },
  {
   "attachments": {},
   "cell_type": "markdown",
   "metadata": {},
   "source": [
    "----------------------------------SVM----------------------------------------------------------------\n",
    "- Best parameters for SVM: \"Gamma\": \"scale\", \"kernel\": \"rbf\"\n",
    "- Tested: \"Gamma\": [\"auto\", \"scale\"]\n",
    "- Tested: \"kernel\": ['linear', 'poly', 'rbf', 'sigmoid']\n",
    "\n",
    "-----------------------------------RF--------------------------------------------------------------\n",
    "- Best parameters for RF: 'max_depth': 4, 'max_leaf_nodes': 3, 'min_samples_split': 2\n",
    "- Tested:'max_leaf_nodes': [1, 2, 3]\n",
    "- Tested:'max_depth': [2, 4, 6]\n",
    "- Tested: 'min_samples_split': [2, 5, 10]\n",
    "\n",
    "---------------------------------------LR-----------------------------------------------------------\n",
    "- Best Parameters: {'penalty': 'l2', 'solver': 'liblinear'}\n",
    "- Tested: 'penalty': ['l1', 'l2', 'elasticnet', 'none']\n",
    "- Tested: 'solver': ['newton-cg', 'lbfgs', 'liblinear', 'sag', 'saga']\n",
    "\n",
    "---------------------------------------KNN-----------------------------------------------------------\n",
    "- KNN: Best Parameters: 'metric': 'manhattan', 'n_neighbors': 20, 'weights': 'uniform'\n",
    "- Tested: k_neigh_params = 'n_neighbors': [1, 2, 5, 10, 15, 20]\n",
    "- Tested: 'weights': ['uniform', 'distance']\n",
    "- Tested: \"metric\": ['euclidean', 'manhattan', 'minkowski']"
   ]
  },
  {
   "cell_type": "code",
   "execution_count": 30,
   "metadata": {},
   "outputs": [
    {
     "name": "stdout",
     "output_type": "stream",
     "text": [
      "SVM Validation Recall: 0.6706002034587996\n",
      "RF Validation Recall: 0.6762970498474059\n",
      "LR Validation Recall: 0.6665310274669379\n",
      "KNN Validation Recall: 0.6636826042726348\n"
     ]
    }
   ],
   "source": [
    "from sklearn.metrics import accuracy_score\n",
    "\n",
    "# testing on validation set first\n",
    "svm = SVC(C=1, kernel='rbf', gamma='scale')\n",
    "svm.fit(X_train, y_train)\n",
    "svm_preds = svm.predict(X_val)\n",
    "\n",
    "rf = RandomForestClassifier(max_depth=10, min_samples_split=10, n_estimators=100)\n",
    "rf.fit(X_train, y_train)\n",
    "rf_preds = rf.predict(X_val)\n",
    "\n",
    "lr = LogisticRegression(penalty='l2', solver='liblinear')\n",
    "lr.fit(X_train, y_train)\n",
    "lr_preds = lr.predict(X_val)\n",
    "\n",
    "knn = KNeighborsClassifier(n_neighbors=20, weights='uniform', metric='manhattan')\n",
    "knn.fit(X_train, y_train)\n",
    "knn_preds = knn.predict(X_val)\n",
    "\n",
    "\n",
    "svm_acc = recall_score(y_val, svm_preds)\n",
    "rf_acc = recall_score(y_val, rf_preds)\n",
    "lr_acc = recall_score(y_val, lr_preds)\n",
    "knn_acc = recall_score(y_val, knn_preds)\n",
    "\n",
    "print('SVM Validation Recall:', svm_acc)\n",
    "print('RF Validation Recall:', rf_acc)\n",
    "print('LR Validation Recall:', lr_acc)\n",
    "print('KNN Validation Recall:', knn_acc)\n"
   ]
  },
  {
   "attachments": {},
   "cell_type": "markdown",
   "metadata": {},
   "source": [
    "# 2.5"
   ]
  },
  {
   "attachments": {},
   "cell_type": "markdown",
   "metadata": {},
   "source": [
    "### Testing combining models "
   ]
  },
  {
   "cell_type": "code",
   "execution_count": 31,
   "metadata": {},
   "outputs": [
    {
     "name": "stdout",
     "output_type": "stream",
     "text": [
      "              precision    recall  f1-score   support\n",
      "\n",
      "           0       0.70      0.80      0.74      4878\n",
      "           1       0.77      0.65      0.71      4915\n",
      "\n",
      "    accuracy                           0.73      9793\n",
      "   macro avg       0.73      0.73      0.72      9793\n",
      "weighted avg       0.73      0.73      0.72      9793\n",
      "\n"
     ]
    },
    {
     "data": {
      "image/png": "[encoded data removed]",
      "text/plain": [
       "<Figure size 640x480 with 2 Axes>"
      ]
     },
     "metadata": {},
     "output_type": "display_data"
    }
   ],
   "source": [
    "# import votingclassifier\n",
    "from sklearn.naive_bayes import MultinomialNB, ComplementNB, BernoulliNB\n",
    "from sklearn.ensemble import VotingClassifier\n",
    "from sklearn.metrics import confusion_matrix, ConfusionMatrixDisplay, classification_report\n",
    "\n",
    "def evaluate_model(model):\n",
    "    model.fit(X_train, y_train)\n",
    "    y_pred = model.predict(X_val)\n",
    "\n",
    "    print(classification_report(y_val, y_pred))\n",
    "    cm = confusion_matrix(y_val, y_pred)\n",
    "    ConfusionMatrixDisplay(cm).plot()\n",
    "\n",
    "vote_clf = VotingClassifier(\n",
    "    [(\"rf\", RandomForestClassifier(max_depth=10, min_samples_split=10, n_estimators=100)),\n",
    "     (\"svc\", SVC(kernel='rbf', gamma='scale')),\n",
    "        (\"knn\", KNeighborsClassifier(n_neighbors=20, weights='uniform', metric='manhattan')),\n",
    "        (\"log_reg\", LogisticRegression(penalty='l2', solver='liblinear')),\n",
    "   #   (\"naive_complement\", ComplementNB()),\n",
    "   #   (\"naive_bernoulli\", BernoulliNB()),\n",
    "   #   (\"naive_multinomail\", MultinomialNB())\n",
    "   ], voting=\"hard\")\n",
    "\n",
    "evaluate_model(vote_clf)\n",
    "\n",
    "# Worse result than the best individual model for recall\n",
    "# 0.01 better recall for 0 and 0.01 worse recall for 1 without naive bayes"
   ]
  },
  {
   "cell_type": "code",
   "execution_count": 32,
   "metadata": {},
   "outputs": [
    {
     "data": {
      "text/plain": [
       "0.6545269582909461"
      ]
     },
     "execution_count": 32,
     "metadata": {},
     "output_type": "execute_result"
    }
   ],
   "source": [
    "recall_score(y_val, vote_clf.predict(X_val))"
   ]
  },
  {
   "attachments": {},
   "cell_type": "markdown",
   "metadata": {},
   "source": [
    "# 2.6"
   ]
  },
  {
   "cell_type": "code",
   "execution_count": 33,
   "metadata": {},
   "outputs": [
    {
     "name": "stdout",
     "output_type": "stream",
     "text": [
      "              precision    recall  f1-score   support\n",
      "\n",
      "           0       0.70      0.78      0.74      4878\n",
      "           1       0.75      0.67      0.71      4915\n",
      "\n",
      "    accuracy                           0.73      9793\n",
      "   macro avg       0.73      0.73      0.72      9793\n",
      "weighted avg       0.73      0.73      0.72      9793\n",
      "\n",
      "None\n"
     ]
    },
    {
     "data": {
      "image/png": "[encoded data removed]",
      "text/plain": [
       "<Figure size 640x480 with 2 Axes>"
      ]
     },
     "metadata": {},
     "output_type": "display_data"
    }
   ],
   "source": [
    "print(evaluate_model(SVC(kernel='rbf', gamma='scale')))"
   ]
  },
  {
   "cell_type": "code",
   "execution_count": 34,
   "metadata": {},
   "outputs": [
    {
     "name": "stdout",
     "output_type": "stream",
     "text": [
      "              precision    recall  f1-score   support\n",
      "\n",
      "           0       0.69      0.77      0.73      4878\n",
      "           1       0.74      0.66      0.70      4915\n",
      "\n",
      "    accuracy                           0.72      9793\n",
      "   macro avg       0.72      0.72      0.71      9793\n",
      "weighted avg       0.72      0.72      0.71      9793\n",
      "\n",
      "None\n"
     ]
    },
    {
     "data": {
      "image/png": "[encoded data removed]",
      "text/plain": [
       "<Figure size 640x480 with 2 Axes>"
      ]
     },
     "metadata": {},
     "output_type": "display_data"
    }
   ],
   "source": [
    "print(evaluate_model(KNeighborsClassifier(n_neighbors=20, weights='uniform', metric='manhattan')))"
   ]
  },
  {
   "cell_type": "code",
   "execution_count": 35,
   "metadata": {},
   "outputs": [
    {
     "name": "stdout",
     "output_type": "stream",
     "text": [
      "              precision    recall  f1-score   support\n",
      "\n",
      "           0       0.70      0.78      0.74      4878\n",
      "           1       0.76      0.67      0.71      4915\n",
      "\n",
      "    accuracy                           0.72      9793\n",
      "   macro avg       0.73      0.72      0.72      9793\n",
      "weighted avg       0.73      0.72      0.72      9793\n",
      "\n",
      "None\n"
     ]
    },
    {
     "data": {
      "image/png": "[encoded data removed]",
      "text/plain": [
       "<Figure size 640x480 with 2 Axes>"
      ]
     },
     "metadata": {},
     "output_type": "display_data"
    }
   ],
   "source": [
    "print(evaluate_model(LogisticRegression(penalty='l2', solver='liblinear')))"
   ]
  },
  {
   "cell_type": "code",
   "execution_count": 36,
   "metadata": {},
   "outputs": [
    {
     "name": "stdout",
     "output_type": "stream",
     "text": [
      "              precision    recall  f1-score   support\n",
      "\n",
      "           0       0.70      0.78      0.74      4878\n",
      "           1       0.76      0.67      0.71      4915\n",
      "\n",
      "    accuracy                           0.73      9793\n",
      "   macro avg       0.73      0.73      0.73      9793\n",
      "weighted avg       0.73      0.73      0.73      9793\n",
      "\n",
      "None\n"
     ]
    },
    {
     "data": {
      "image/png": "[encoded data removed]",
      "text/plain": [
       "<Figure size 640x480 with 2 Axes>"
      ]
     },
     "metadata": {},
     "output_type": "display_data"
    }
   ],
   "source": [
    "print(evaluate_model(RandomForestClassifier(max_depth=10, min_samples_split=10, n_estimators=100)))\n",
    "# highest recall average (together with SVC)"
   ]
  },
  {
   "attachments": {},
   "cell_type": "markdown",
   "metadata": {},
   "source": [
    "# 2.7"
   ]
  },
  {
   "cell_type": "code",
   "execution_count": 37,
   "metadata": {},
   "outputs": [],
   "source": [
    "# pick out 100 random rows from the dataset and export to test_samples.csv\n",
    "import random\n",
    "\n",
    "test_samples = random.sample(range(0, len(df_2)), 100)\n",
    "test_samples_df = df_2.iloc[test_samples]\n",
    "test_samples_df.to_csv('test_samples.csv', index=False)\n",
    "\n",
    "# removes the test_samples.csv from the dataset\n",
    "df_2 = df_2.drop(test_samples_df.index)\n"
   ]
  },
  {
   "attachments": {},
   "cell_type": "markdown",
   "metadata": {},
   "source": [
    "* Best model for recall is randomforest"
   ]
  },
  {
   "cell_type": "code",
   "execution_count": 38,
   "metadata": {},
   "outputs": [],
   "source": [
    "rf = RandomForestClassifier(max_depth=10, min_samples_split=10, n_estimators=100)\n",
    "rf.fit(X_train, y_train)\n",
    "\n",
    "# save trained model\n",
    "import pickle\n",
    "\n",
    "pickle.dump(rf, open('new_rf_model.pkl', 'wb'))"
   ]
  }
 ],
 "metadata": {
  "kernelspec": {
   "display_name": "Machine-learning-Mosm6azX",
   "language": "python",
   "name": "python3"
  },
  "language_info": {
   "codemirror_mode": {
    "name": "ipython",
    "version": 3
   },
   "file_extension": ".py",
   "mimetype": "text/x-python",
   "name": "python",
   "nbconvert_exporter": "python",
   "pygments_lexer": "ipython3",
   "version": "3.9.13"
  },
  "orig_nbformat": 4
 },
 "nbformat": 4,
 "nbformat_minor": 2
}
