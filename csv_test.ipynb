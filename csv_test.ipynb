{
 "cells": [
  {
   "cell_type": "code",
   "execution_count": 70,
   "metadata": {},
   "outputs": [],
   "source": [
    "import csv\n",
    "from io import StringIO\n",
    "import pandas as pd\n",
    "\n",
    "class UniversalCSVConverter:\n",
    "    def __init__(self, columns=None, data=None):\n",
    "        self.columns = columns\n",
    "        self.data = data\n",
    "\n",
    "    def set_data(self, data):\n",
    "        self.data = data # sets\n",
    "\n",
    "    def set_columns(self, columns):\n",
    "        self.columns = columns\n",
    "\n",
    "    @staticmethod\n",
    "    def convert_to_csv(columns, data):\n",
    "        csv_file = StringIO()\n",
    "        csv_writer = csv.DictWriter(csv_file, fieldnames=columns)\n",
    "        csv_writer.writeheader()\n",
    "        for item in data:\n",
    "            csv_writer.writerow(item)\n",
    "        csv_data = csv_file.getvalue()\n",
    "        csv_file.close()\n",
    "        return csv_data\n",
    "\n",
    "    def to_csv(self): # using instance variables\n",
    "        if self.data is None:\n",
    "            raise ValueError(\"No data provided\")\n",
    "        \n",
    "        if isinstance(self.data, pd.DataFrame):\n",
    "            return self.data.to_csv(index=False, columns=self.columns)\n",
    "        \n",
    "        elif isinstance(self.data, list) and all(isinstance(item, dict) for item in self.data):\n",
    "            columns = self.columns or list(self.data[0].keys())\n",
    "            print(self.data[0].keys())\n",
    "            print(self.data)\n",
    "            return self.convert_to_csv(columns, self.data)\n",
    "        \n",
    "        else:\n",
    "            raise ValueError(\"Unsupported data type\")\n"
   ]
  },
  {
   "cell_type": "code",
   "execution_count": 71,
   "metadata": {},
   "outputs": [],
   "source": [
    "import pandas as pd\n",
    "\n",
    "# Define the column names and data types\n",
    "columns = [\"Name\", \"Age\", \"Height\", \"Weight\", \"IsMarried\"]\n",
    "dtypes = {\"Name\": str, \"Age\": int, \"Height\": float, \"Weight\": float, \"IsMarried\": bool}\n",
    "\n",
    "# Define the example data\n",
    "data = [\n",
    "    {\"Name\": \"Alice\", \"Age\": 25, \"Height\": 1.65, \"Weight\": 60.0, \"IsMarried\": False},\n",
    "    {\"Name\": \"Bob\", \"Age\": 30, \"Height\": 1.80, \"Weight\": 80.0, \"IsMarried\": True},\n",
    "    {\"Name\": \"Charlie\", \"Age\": 35, \"Height\": 1.75, \"Weight\": 70.0, \"IsMarried\": True},\n",
    "    {\"Name\": \"David\", \"Age\": 40, \"Height\": 1.70, \"Weight\": 75.0, \"IsMarried\": False},\n",
    "    {\"Name\": \"Eve\", \"Age\": 45, \"Height\": 1.60, \"Weight\": 65.0, \"IsMarried\": False},\n",
    "    {\"Name\": \"Frank\", \"Age\": 50, \"Height\": 1.85, \"Weight\": 90.0, \"IsMarried\": True},\n",
    "    {\"Name\": \"Grace\", \"Age\": 55, \"Height\": 1.75, \"Weight\": 80.0, \"IsMarried\": False},\n",
    "    {\"Name\": \"Harry\", \"Age\": 60, \"Height\": 1.80, \"Weight\": 85.0, \"IsMarried\": True},\n",
    "    {\"Name\": \"Ivy\", \"Age\": 65, \"Height\": 1.70, \"Weight\": 70.0, \"IsMarried\": False},\n",
    "    {\"Name\": \"Jack\", \"Age\": 70, \"Height\": 1.75, \"Weight\": 75.0, \"IsMarried\": True},\n",
    "    {\"Name\": \"Kate\", \"Age\": 75, \"Height\": 1.65, \"Weight\": 65.0, \"IsMarried\": False},\n",
    "    {\"Name\": \"Leo\", \"Age\": 80, \"Height\": 1.80, \"Weight\": 80.0, \"IsMarried\": True},\n",
    "    {\"Name\": \"Mia\", \"Age\": 85, \"Height\": 1.75, \"Weight\": 70.0, \"IsMarried\": False},\n",
    "    {\"Name\": \"Nick\", \"Age\": 90, \"Height\": 1.70, \"Weight\": 75.0, \"IsMarried\": True},\n",
    "    {\"Name\": \"Olivia\", \"Age\": 95, \"Height\": 1.60, \"Weight\": 65.0, \"IsMarried\": False},\n",
    "    {\"Name\": \"Paul\", \"Age\": 100, \"Height\": 1.85, \"Weight\": 90.0, \"IsMarried\": True},\n",
    "]\n",
    "\n",
    "# Create the DataFrame\n",
    "df = pd.DataFrame(data, columns=columns).astype(dtypes)"
   ]
  },
  {
   "cell_type": "markdown",
   "metadata": {},
   "source": [
    "# Testing class on dataframe"
   ]
  },
  {
   "cell_type": "code",
   "execution_count": 77,
   "metadata": {},
   "outputs": [
    {
     "name": "stdout",
     "output_type": "stream",
     "text": [
      "Name,Age,Height,Weight,IsMarried\n",
      "Alice,25,1.65,60.0,False\n",
      "Bob,30,1.8,80.0,True\n",
      "Charlie,35,1.75,70.0,True\n",
      "David,40,1.7,75.0,False\n",
      "Eve,45,1.6,65.0,False\n",
      "Frank,50,1.85,90.0,True\n",
      "Grace,55,1.75,80.0,False\n",
      "Harry,60,1.8,85.0,True\n",
      "Ivy,65,1.7,70.0,False\n",
      "Jack,70,1.75,75.0,True\n",
      "Kate,75,1.65,65.0,False\n",
      "Leo,80,1.8,80.0,True\n",
      "Mia,85,1.75,70.0,False\n",
      "Nick,90,1.7,75.0,True\n",
      "Olivia,95,1.6,65.0,False\n",
      "Paul,100,1.85,90.0,True\n",
      "\n"
     ]
    }
   ],
   "source": [
    "converter_df = UniversalCSVConverter(columns=df.columns, data=df)\n",
    "print(converter_df.to_csv())\n",
    "\n",
    "# tested writing it to a csv file\n",
    "with open (\"test.csv\", \"w\") as f:\n",
    "    f.write(converter_df.to_csv())"
   ]
  },
  {
   "cell_type": "markdown",
   "metadata": {},
   "source": [
    "# Testing class on json"
   ]
  },
  {
   "cell_type": "code",
   "execution_count": 75,
   "metadata": {},
   "outputs": [
    {
     "name": "stdout",
     "output_type": "stream",
     "text": [
      "dict_keys(['stationId', 'timestamp', 'AvailableBikes'])\n",
      "[{'stationId': 'LinnÃ©platsen (A)', 'timestamp': '2023-10-16T01:40:18.061970', 'AvailableBikes': '19'}, {'stationId': 'LinnÃ©platsen (A)', 'timestamp': '2023-10-16T01:40:18.061970', 'AvailableBikes': '19'}, {'stationId': 'LinnÃ©platsen (A)', 'timestamp': '2023-10-16T01:40:18.061970', 'AvailableBikes': '19'}, {'stationId': 'LinnÃ©platsen (A)', 'timestamp': '2023-10-16T01:40:18.061970', 'AvailableBikes': '19'}, {'stationId': 'LinnÃ©platsen (A)', 'timestamp': '2023-10-16T01:40:18.061970', 'AvailableBikes': '19'}]\n",
      "stationId,timestamp,AvailableBikes\n",
      "LinnÃ©platsen (A),2023-10-16T01:40:18.061970,19\n",
      "LinnÃ©platsen (A),2023-10-16T01:40:18.061970,19\n",
      "LinnÃ©platsen (A),2023-10-16T01:40:18.061970,19\n",
      "LinnÃ©platsen (A),2023-10-16T01:40:18.061970,19\n",
      "LinnÃ©platsen (A),2023-10-16T01:40:18.061970,19\n",
      "\n",
      "dict_keys(['stationId', 'timestamp', 'AvailableBikes'])\n",
      "[{'stationId': 'LinnÃ©platsen (A)', 'timestamp': '2023-10-16T01:40:18.061970', 'AvailableBikes': '19'}, {'stationId': 'LinnÃ©platsen (A)', 'timestamp': '2023-10-16T01:40:18.061970', 'AvailableBikes': '19'}, {'stationId': 'LinnÃ©platsen (A)', 'timestamp': '2023-10-16T01:40:18.061970', 'AvailableBikes': '19'}, {'stationId': 'LinnÃ©platsen (A)', 'timestamp': '2023-10-16T01:40:18.061970', 'AvailableBikes': '19'}, {'stationId': 'LinnÃ©platsen (A)', 'timestamp': '2023-10-16T01:40:18.061970', 'AvailableBikes': '19'}]\n"
     ]
    }
   ],
   "source": [
    "import json\n",
    "# extracting data in json format and keys (columns)\n",
    "json_file = open(\"test.json\")\n",
    "json_file = json.load(json_file)\n",
    "json_file_columns = json_file[0].keys()\n",
    "\n",
    "converter_json = UniversalCSVConverter(columns=json_file_columns, data=json_file)\n",
    "print(converter_json.to_csv())\n",
    "\n",
    "# tested writing it to a csv file\n",
    "with open(\"test2.csv\", \"w\") as f:\n",
    "    f.write(converter_json.to_csv())"
   ]
  }
 ],
 "metadata": {
  "kernelspec": {
   "display_name": "Machine-learning-Mosm6azX",
   "language": "python",
   "name": "python3"
  },
  "language_info": {
   "codemirror_mode": {
    "name": "ipython",
    "version": 3
   },
   "file_extension": ".py",
   "mimetype": "text/x-python",
   "name": "python",
   "nbconvert_exporter": "python",
   "pygments_lexer": "ipython3",
   "version": "3.9.13"
  }
 },
 "nbformat": 4,
 "nbformat_minor": 2
}
